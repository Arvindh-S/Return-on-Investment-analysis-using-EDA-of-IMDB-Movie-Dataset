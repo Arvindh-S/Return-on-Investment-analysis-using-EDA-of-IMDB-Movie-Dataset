{
 "cells": [
  {
   "cell_type": "markdown",
   "metadata": {
    "id": "TiaaGLUv6QZa"
   },
   "source": [
    "# Return on Investment (ROI) analysis using Exploratory Data Analysis of IMDB Movie Dataset for Sussex Budget Production"
   ]
  },
  {
   "cell_type": "markdown",
   "metadata": {
    "id": "w9MEqcyE6QZb"
   },
   "source": [
    "## **Overview of the Report**:"
   ]
  },
  {
   "cell_type": "markdown",
   "metadata": {
    "id": "Rm3cuEmi6QZc"
   },
   "source": [
    "In their most recent film, Sussex Budget Production invested £500K and collected only £100K as their return, which is basically -80% of the return on investment (ROI).\n",
    "\n",
    "Business Question for this Report:\n",
    "How can we increase the return on investment while maintaining the company's operations?\n",
    "\n",
    "In order to answer this question, we must first conduct an analysis that gives us evidence of what type of movies will perform better, given previously that the \"comedy-action-thriller\" genre was attempted and failed miserably to collect the invested amount in the box office. Now the company is prepared to secure a budget of £1.5 million through the persuasion of investors, where their only proposed option to the investors is to make sure that it must be a good return on investment (ROI) and must be used to keep the business going even though it lost money.\n",
    "\n",
    "In this report:\n",
    "I will be performing an exploratory data analysis (EDA) for this report. This analysis will let us organize and clean the data so that we can use the cleaned version of the data file for the analysis. Then I'll be performing a natural hypothesis using the chosen data in order to find proof to help me decide on the next movie production that is statistically significant for the variables we test.\n",
    "\n",
    "After completing all of the exploratory data analysis and hypothesis tests, I can choose the best next steps to take in order to maximize my return on investment. With this conclusion, I should be able to answer the report's business question."
   ]
  },
  {
   "cell_type": "code",
   "execution_count": 1,
   "metadata": {
    "executionInfo": {
     "elapsed": 1794,
     "status": "ok",
     "timestamp": 1700750394174,
     "user": {
      "displayName": "Aravindhan S",
      "userId": "11350369439612807780"
     },
     "user_tz": 0
    },
    "id": "bG7KmppH6QZc"
   },
   "outputs": [],
   "source": [
    "#we are first importing the required libraries to work on data in this report.\n",
    "import pandas as pd\n",
    "from matplotlib import pyplot as plt\n",
    "import seaborn as sns\n",
    "import numpy as np"
   ]
  },
  {
   "cell_type": "markdown",
   "metadata": {
    "id": "ZKHo4v9R6QZd"
   },
   "source": [
    "## **Data Exploring and Cleaning**:"
   ]
  },
  {
   "cell_type": "markdown",
   "metadata": {
    "id": "V1nqj9g_6QZd"
   },
   "source": [
    "Once all the necessary libraries have been imported, I will proceed to read the IMDB data, clean the data properly, and conduct exploratory data analysis. This will involve examining the presence of null values, identifying unique values, and removing any unwanted entries, outliers, and duplicate values. So, let us begin with the process of data cleaning."
   ]
  },
  {
   "cell_type": "code",
   "execution_count": 2,
   "metadata": {
    "colab": {
     "base_uri": "https://localhost:8080/",
     "height": 290
    },
    "executionInfo": {
     "elapsed": 11,
     "status": "ok",
     "timestamp": 1700750394175,
     "user": {
      "displayName": "Aravindhan S",
      "userId": "11350369439612807780"
     },
     "user_tz": 0
    },
    "id": "qwVffvUW6QZd",
    "outputId": "c78b28d2-55d1-4349-c4fa-094100223b72",
    "scrolled": true
   },
   "outputs": [
    {
     "data": {
      "text/html": [
       "<div>\n",
       "<style scoped>\n",
       "    .dataframe tbody tr th:only-of-type {\n",
       "        vertical-align: middle;\n",
       "    }\n",
       "\n",
       "    .dataframe tbody tr th {\n",
       "        vertical-align: top;\n",
       "    }\n",
       "\n",
       "    .dataframe thead th {\n",
       "        text-align: right;\n",
       "    }\n",
       "</style>\n",
       "<table border=\"1\" class=\"dataframe\">\n",
       "  <thead>\n",
       "    <tr style=\"text-align: right;\">\n",
       "      <th></th>\n",
       "      <th>color</th>\n",
       "      <th>director_name</th>\n",
       "      <th>critic_Reviews</th>\n",
       "      <th>duration</th>\n",
       "      <th>director_facebook_likes</th>\n",
       "      <th>actor_3_facebook_likes</th>\n",
       "      <th>actor_2_name</th>\n",
       "      <th>actor_1_facebook_likes</th>\n",
       "      <th>gross</th>\n",
       "      <th>genres</th>\n",
       "      <th>...</th>\n",
       "      <th>num_user_for_reviews</th>\n",
       "      <th>language</th>\n",
       "      <th>country</th>\n",
       "      <th>content_rating</th>\n",
       "      <th>budget</th>\n",
       "      <th>title_year</th>\n",
       "      <th>actor_2_facebook_likes</th>\n",
       "      <th>imdb_score</th>\n",
       "      <th>aspect_ratio</th>\n",
       "      <th>movie_facebook_likes</th>\n",
       "    </tr>\n",
       "  </thead>\n",
       "  <tbody>\n",
       "    <tr>\n",
       "      <th>0</th>\n",
       "      <td>Color</td>\n",
       "      <td>James Cameron</td>\n",
       "      <td>723.0</td>\n",
       "      <td>178.0</td>\n",
       "      <td>0.0</td>\n",
       "      <td>855.0</td>\n",
       "      <td>Joel David Moore</td>\n",
       "      <td>1000.0</td>\n",
       "      <td>760505847.0</td>\n",
       "      <td>Action|Adventure|Fantasy|Sci-Fi</td>\n",
       "      <td>...</td>\n",
       "      <td>3054.0</td>\n",
       "      <td>English</td>\n",
       "      <td>USA</td>\n",
       "      <td>PG-13</td>\n",
       "      <td>237000000.0</td>\n",
       "      <td>2009.0</td>\n",
       "      <td>936.0</td>\n",
       "      <td>7.9</td>\n",
       "      <td>1.78</td>\n",
       "      <td>33000</td>\n",
       "    </tr>\n",
       "    <tr>\n",
       "      <th>1</th>\n",
       "      <td>Color</td>\n",
       "      <td>Gore Verbinski</td>\n",
       "      <td>302.0</td>\n",
       "      <td>169.0</td>\n",
       "      <td>563.0</td>\n",
       "      <td>1000.0</td>\n",
       "      <td>Orlando Bloom</td>\n",
       "      <td>40000.0</td>\n",
       "      <td>309404152.0</td>\n",
       "      <td>Action|Adventure|Fantasy</td>\n",
       "      <td>...</td>\n",
       "      <td>1238.0</td>\n",
       "      <td>English</td>\n",
       "      <td>USA</td>\n",
       "      <td>PG-13</td>\n",
       "      <td>300000000.0</td>\n",
       "      <td>2007.0</td>\n",
       "      <td>5000.0</td>\n",
       "      <td>7.1</td>\n",
       "      <td>2.35</td>\n",
       "      <td>0</td>\n",
       "    </tr>\n",
       "    <tr>\n",
       "      <th>2</th>\n",
       "      <td>Color</td>\n",
       "      <td>Sam Mendes</td>\n",
       "      <td>602.0</td>\n",
       "      <td>148.0</td>\n",
       "      <td>0.0</td>\n",
       "      <td>161.0</td>\n",
       "      <td>Rory Kinnear</td>\n",
       "      <td>11000.0</td>\n",
       "      <td>200074175.0</td>\n",
       "      <td>Action|Adventure|Thriller</td>\n",
       "      <td>...</td>\n",
       "      <td>994.0</td>\n",
       "      <td>English</td>\n",
       "      <td>UK</td>\n",
       "      <td>PG-13</td>\n",
       "      <td>245000000.0</td>\n",
       "      <td>2015.0</td>\n",
       "      <td>393.0</td>\n",
       "      <td>6.8</td>\n",
       "      <td>2.35</td>\n",
       "      <td>85000</td>\n",
       "    </tr>\n",
       "    <tr>\n",
       "      <th>3</th>\n",
       "      <td>Color</td>\n",
       "      <td>Christopher Nolan</td>\n",
       "      <td>813.0</td>\n",
       "      <td>164.0</td>\n",
       "      <td>22000.0</td>\n",
       "      <td>23000.0</td>\n",
       "      <td>Christian Bale</td>\n",
       "      <td>27000.0</td>\n",
       "      <td>448130642.0</td>\n",
       "      <td>Action|Thriller</td>\n",
       "      <td>...</td>\n",
       "      <td>2701.0</td>\n",
       "      <td>English</td>\n",
       "      <td>USA</td>\n",
       "      <td>PG-13</td>\n",
       "      <td>250000000.0</td>\n",
       "      <td>2012.0</td>\n",
       "      <td>23000.0</td>\n",
       "      <td>8.5</td>\n",
       "      <td>2.35</td>\n",
       "      <td>164000</td>\n",
       "    </tr>\n",
       "    <tr>\n",
       "      <th>4</th>\n",
       "      <td>NaN</td>\n",
       "      <td>Doug Walker</td>\n",
       "      <td>NaN</td>\n",
       "      <td>NaN</td>\n",
       "      <td>131.0</td>\n",
       "      <td>NaN</td>\n",
       "      <td>Rob Walker</td>\n",
       "      <td>131.0</td>\n",
       "      <td>NaN</td>\n",
       "      <td>Documentary</td>\n",
       "      <td>...</td>\n",
       "      <td>NaN</td>\n",
       "      <td>NaN</td>\n",
       "      <td>NaN</td>\n",
       "      <td>NaN</td>\n",
       "      <td>NaN</td>\n",
       "      <td>NaN</td>\n",
       "      <td>12.0</td>\n",
       "      <td>7.1</td>\n",
       "      <td>NaN</td>\n",
       "      <td>0</td>\n",
       "    </tr>\n",
       "  </tbody>\n",
       "</table>\n",
       "<p>5 rows × 28 columns</p>\n",
       "</div>"
      ],
      "text/plain": [
       "   color      director_name  critic_Reviews  duration  \\\n",
       "0  Color      James Cameron           723.0     178.0   \n",
       "1  Color     Gore Verbinski           302.0     169.0   \n",
       "2  Color         Sam Mendes           602.0     148.0   \n",
       "3  Color  Christopher Nolan           813.0     164.0   \n",
       "4    NaN        Doug Walker             NaN       NaN   \n",
       "\n",
       "   director_facebook_likes  actor_3_facebook_likes      actor_2_name  \\\n",
       "0                      0.0                   855.0  Joel David Moore   \n",
       "1                    563.0                  1000.0     Orlando Bloom   \n",
       "2                      0.0                   161.0      Rory Kinnear   \n",
       "3                  22000.0                 23000.0    Christian Bale   \n",
       "4                    131.0                     NaN        Rob Walker   \n",
       "\n",
       "   actor_1_facebook_likes        gross                           genres  ...  \\\n",
       "0                  1000.0  760505847.0  Action|Adventure|Fantasy|Sci-Fi  ...   \n",
       "1                 40000.0  309404152.0         Action|Adventure|Fantasy  ...   \n",
       "2                 11000.0  200074175.0        Action|Adventure|Thriller  ...   \n",
       "3                 27000.0  448130642.0                  Action|Thriller  ...   \n",
       "4                   131.0          NaN                      Documentary  ...   \n",
       "\n",
       "  num_user_for_reviews language  country  content_rating       budget  \\\n",
       "0               3054.0  English      USA           PG-13  237000000.0   \n",
       "1               1238.0  English      USA           PG-13  300000000.0   \n",
       "2                994.0  English       UK           PG-13  245000000.0   \n",
       "3               2701.0  English      USA           PG-13  250000000.0   \n",
       "4                  NaN      NaN      NaN             NaN          NaN   \n",
       "\n",
       "   title_year actor_2_facebook_likes imdb_score  aspect_ratio  \\\n",
       "0      2009.0                  936.0        7.9          1.78   \n",
       "1      2007.0                 5000.0        7.1          2.35   \n",
       "2      2015.0                  393.0        6.8          2.35   \n",
       "3      2012.0                23000.0        8.5          2.35   \n",
       "4         NaN                   12.0        7.1           NaN   \n",
       "\n",
       "  movie_facebook_likes  \n",
       "0                33000  \n",
       "1                    0  \n",
       "2                85000  \n",
       "3               164000  \n",
       "4                    0  \n",
       "\n",
       "[5 rows x 28 columns]"
      ]
     },
     "execution_count": 2,
     "metadata": {},
     "output_type": "execute_result"
    }
   ],
   "source": [
    "movie_dataset=pd.read_csv('movie_metadata.csv') #Loading the movie dataset to a dataframe\n",
    "\n",
    "# Dropping rows where the 'color' column has the value 'Black and White' since they are outliers and don't need to be considered for producing a movie\n",
    "movie_dataset = movie_dataset[movie_dataset['color'] != 'Black and White'].reset_index(drop=True)\n",
    "movie_dataset.head()"
   ]
  },
  {
   "cell_type": "code",
   "execution_count": 3,
   "metadata": {
    "colab": {
     "base_uri": "https://localhost:8080/"
    },
    "executionInfo": {
     "elapsed": 7,
     "status": "ok",
     "timestamp": 1700750396396,
     "user": {
      "displayName": "Aravindhan S",
      "userId": "11350369439612807780"
     },
     "user_tz": 0
    },
    "id": "eUvCu2Ay6QZd",
    "outputId": "5ea53400-c8eb-4f5e-bc75-2f41c771cc0c",
    "scrolled": false
   },
   "outputs": [
    {
     "name": "stdout",
     "output_type": "stream",
     "text": [
      "<class 'pandas.core.frame.DataFrame'>\n",
      "RangeIndex: 4998 entries, 0 to 4997\n",
      "Data columns (total 28 columns):\n",
      " #   Column                   Non-Null Count  Dtype  \n",
      "---  ------                   --------------  -----  \n",
      " 0   color                    4979 non-null   object \n",
      " 1   director_name            4895 non-null   object \n",
      " 2   critic_Reviews           4949 non-null   float64\n",
      " 3   duration                 4983 non-null   float64\n",
      " 4   director_facebook_likes  4895 non-null   float64\n",
      " 5   actor_3_facebook_likes   4975 non-null   float64\n",
      " 6   actor_2_name             4985 non-null   object \n",
      " 7   actor_1_facebook_likes   4991 non-null   float64\n",
      " 8   gross                    4124 non-null   float64\n",
      " 9   genres                   4998 non-null   object \n",
      " 10  actor_1_name             4991 non-null   object \n",
      " 11  movie_title              4998 non-null   object \n",
      " 12  num_voted_users          4998 non-null   int64  \n",
      " 13  total_FB_Likes           4998 non-null   int64  \n",
      " 14  actor_3_name             4975 non-null   object \n",
      " 15  facenumber_in_poster     4985 non-null   float64\n",
      " 16  plot_keywords            4846 non-null   object \n",
      " 17  movie_imdb_link          4998 non-null   object \n",
      " 18  num_user_for_reviews     4977 non-null   float64\n",
      " 19  language                 4984 non-null   object \n",
      " 20  country                  4993 non-null   object \n",
      " 21  content_rating           4697 non-null   object \n",
      " 22  budget                   4511 non-null   float64\n",
      " 23  title_year               4891 non-null   float64\n",
      " 24  actor_2_facebook_likes   4985 non-null   float64\n",
      " 25  imdb_score               4998 non-null   float64\n",
      " 26  aspect_ratio             4671 non-null   float64\n",
      " 27  movie_facebook_likes     4998 non-null   int64  \n",
      "dtypes: float64(13), int64(3), object(12)\n",
      "memory usage: 1.1+ MB\n"
     ]
    }
   ],
   "source": [
    "movie_dataset.info() #Checking all of the basic information associated with our IMDB data file"
   ]
  },
  {
   "cell_type": "code",
   "execution_count": 4,
   "metadata": {
    "colab": {
     "base_uri": "https://localhost:8080/",
     "height": 487
    },
    "executionInfo": {
     "elapsed": 937,
     "status": "ok",
     "timestamp": 1700750397328,
     "user": {
      "displayName": "Aravindhan S",
      "userId": "11350369439612807780"
     },
     "user_tz": 0
    },
    "id": "-LatnYzv6QZd",
    "outputId": "b5ec6df6-609f-4ad4-d54e-dac7fdef6854",
    "scrolled": true
   },
   "outputs": [
    {
     "data": {
      "image/png": "[encoded data removed]",
      "text/plain": [
       "<Figure size 500x500 with 1 Axes>"
      ]
     },
     "metadata": {},
     "output_type": "display_data"
    }
   ],
   "source": [
    "plt.figure(figsize=(5, 5))\n",
    "#plotting a histogram of IMDb scores from the dataset\n",
    "sns.histplot(movie_dataset['imdb_score'], bins=15, kde=False, color='purple')\n",
    "plt.title('Distribution of IMDB scores')\n",
    "plt.xlabel('IMDB score')\n",
    "plt.ylabel('Number of Movies')\n",
    "plt.show()"
   ]
  },
  {
   "cell_type": "code",
   "execution_count": 5,
   "metadata": {
    "colab": {
     "base_uri": "https://localhost:8080/"
    },
    "executionInfo": {
     "elapsed": 18,
     "status": "ok",
     "timestamp": 1700750397328,
     "user": {
      "displayName": "Aravindhan S",
      "userId": "11350369439612807780"
     },
     "user_tz": 0
    },
    "id": "WvXr1fIh6QZd",
    "outputId": "56706015-16a3-4fca-bf57-5112387be2e9",
    "scrolled": false
   },
   "outputs": [
    {
     "data": {
      "text/plain": [
       "array(['Action|Adventure|Fantasy|Sci-Fi', 'Action|Adventure|Fantasy',\n",
       "       'Action|Adventure|Thriller', 'Action|Thriller', 'Documentary',\n",
       "       'Action|Adventure|Sci-Fi', 'Action|Adventure|Romance',\n",
       "       'Adventure|Animation|Comedy|Family|Fantasy|Musical|Romance',\n",
       "       'Adventure|Family|Fantasy|Mystery', 'Action|Adventure',\n",
       "       'Action|Adventure|Western', 'Action|Adventure|Family|Fantasy',\n",
       "       'Action|Adventure|Comedy|Family|Fantasy|Sci-Fi',\n",
       "       'Adventure|Fantasy', 'Action|Adventure|Drama|History',\n",
       "       'Adventure|Family|Fantasy', 'Action|Adventure|Drama|Romance',\n",
       "       'Drama|Romance', 'Action|Adventure|Sci-Fi|Thriller',\n",
       "       'Action|Adventure|Fantasy|Romance',\n",
       "       'Action|Adventure|Fantasy|Sci-Fi|Thriller',\n",
       "       'Adventure|Animation|Comedy|Family|Fantasy',\n",
       "       'Adventure|Animation|Comedy|Family|Sport', 'Action|Crime|Thriller',\n",
       "       'Action|Adventure|Horror|Sci-Fi|Thriller',\n",
       "       'Adventure|Animation|Family|Sci-Fi',\n",
       "       'Action|Comedy|Crime|Thriller', 'Animation|Drama|Family|Fantasy',\n",
       "       'Action|Crime|Drama|Thriller', 'Adventure|Animation|Comedy|Family',\n",
       "       'Action|Adventure|Animation|Comedy|Family|Sci-Fi',\n",
       "       'Adventure|Drama|Family|Mystery', 'Action|Comedy|Sci-Fi|Western',\n",
       "       'Action|Adventure|Fantasy|Horror|Thriller',\n",
       "       'Action|Adventure|Comedy|Sci-Fi', 'Comedy|Family|Fantasy',\n",
       "       'Adventure|Animation|Comedy|Drama|Family|Fantasy',\n",
       "       'Adventure|Drama|Family|Fantasy', 'Action|Adventure|Drama|Fantasy',\n",
       "       'Action|Adventure|Family|Fantasy|Romance',\n",
       "       'Action|Adventure|Drama|Sci-Fi', 'Action|Adventure|Romance|Sci-Fi',\n",
       "       'Action|Adventure|Family|Mystery|Sci-Fi',\n",
       "       'Action|Adventure|Animation|Comedy|Drama|Family|Sci-Fi',\n",
       "       'Adventure|Animation|Comedy|Family|Sci-Fi',\n",
       "       'Adventure|Animation|Family|Fantasy', 'Action|Sci-Fi',\n",
       "       'Adventure|Drama|Sci-Fi', 'Action|Adventure|Drama|Horror|Sci-Fi',\n",
       "       'Drama|Fantasy|Romance', 'Adventure|Sci-Fi',\n",
       "       'Action|Adventure|Drama|Thriller',\n",
       "       'Action|Drama|History|Romance|War',\n",
       "       'Action|Adventure|Biography|Drama|History|Romance|War',\n",
       "       'Action|Drama', 'Drama|Horror|Sci-Fi',\n",
       "       'Adventure|Comedy|Family|Fantasy',\n",
       "       'Animation|Comedy|Family|Fantasy',\n",
       "       'Action|Adventure|Animation|Comedy|Family',\n",
       "       'Adventure|Animation|Comedy|Family|Fantasy|Musical',\n",
       "       'Mystery|Thriller', 'Adventure|Animation|Comedy|Drama|Family',\n",
       "       'Action|Adventure|Animation|Comedy|Family|Fantasy|Sci-Fi',\n",
       "       'Comedy|Fantasy|Horror', 'Drama|Fantasy|Horror|Thriller',\n",
       "       'Action|Drama|Thriller', 'Adventure',\n",
       "       'Action|Comedy|Fantasy|Sci-Fi',\n",
       "       'Action|Adventure|Comedy|Family|Fantasy|Mystery|Sci-Fi',\n",
       "       'Action|Adventure|Animation|Fantasy', 'Comedy|Crime',\n",
       "       'Action|Drama|History|War', 'Action|Adventure|Drama',\n",
       "       'Action|Adventure|Animation|Comedy|Family|Fantasy',\n",
       "       'Action|Drama|Mystery|Sci-Fi', 'Action|Adventure|Comedy|Thriller',\n",
       "       'Action|Adventure|Animation|Fantasy|Romance|Sci-Fi',\n",
       "       'Action|Adventure|Drama|History|War',\n",
       "       'Adventure|Drama|Fantasy|Romance',\n",
       "       'Animation|Comedy|Family|Musical',\n",
       "       'Action|Crime|Drama|Mystery|Thriller',\n",
       "       'Adventure|Drama|Thriller|Western',\n",
       "       'Adventure|Animation|Comedy|Family|Western',\n",
       "       'Action|Mystery|Thriller', 'Adventure|Sci-Fi|Thriller',\n",
       "       'Adventure|Animation|Comedy|Family|Fantasy|Sci-Fi',\n",
       "       'Action|Crime|Mystery|Thriller', 'Action|Adventure|Family|Mystery',\n",
       "       'Adventure|Drama|Romance|War',\n",
       "       'Adventure|Animation|Family|Thriller', 'Action|Fantasy',\n",
       "       'Action|Animation|Comedy|Family|Sci-Fi', 'Action|Comedy|Fantasy',\n",
       "       'Fantasy', 'Adventure|Animation|Comedy|Family|Musical',\n",
       "       'Action|Adventure|Crime|Mystery|Thriller',\n",
       "       'Action|Adventure|History', 'Action', 'Adventure|Drama|Fantasy',\n",
       "       'Action|Fantasy|Thriller', 'Action|Adventure|Comedy|Crime',\n",
       "       'Adventure|Mystery|Sci-Fi', 'Action|Drama|Sci-Fi|Thriller',\n",
       "       'Action|Crime|Sci-Fi|Thriller', 'Action|Family|Sport',\n",
       "       'Comedy|Drama|Romance', 'Action|Comedy|Romance',\n",
       "       'Action|Adventure|Mystery|Sci-Fi', 'Action|Drama|War',\n",
       "       'Adventure|Drama|Sci-Fi|Thriller',\n",
       "       'Action|Adventure|Comedy|Family|Fantasy', 'Crime|Thriller',\n",
       "       'Action|Comedy|Crime|Romance|Thriller', 'Biography|Drama',\n",
       "       'Action|Comedy|Crime|Sci-Fi|Thriller', 'Action|Adventure|Crime',\n",
       "       'Action|Drama|Fantasy|War',\n",
       "       'Animation|Comedy|Family|Music|Western',\n",
       "       'Action|Adventure|Mystery|Sci-Fi|Thriller',\n",
       "       'Action|Drama|Sci-Fi|Sport', 'Action|Crime|Romance|Thriller',\n",
       "       'Action|Adventure|Comedy', 'Biography|Drama|Sport',\n",
       "       'Action|Mystery|Sci-Fi|Thriller',\n",
       "       'Animation|Family|Fantasy|Musical|Romance', 'Comedy',\n",
       "       'Action|Adventure|Romance|Sci-Fi|Thriller', 'Comedy|Romance',\n",
       "       'Action|Drama|Romance', 'Biography|Crime|Drama|History|Romance',\n",
       "       'Biography|Crime|Drama', 'Action|Comedy|Thriller',\n",
       "       'Action|Comedy|Crime', 'Action|Drama|Mystery|Thriller',\n",
       "       'Drama|Western', 'Animation|Drama|Family|Musical|Romance',\n",
       "       'Action|Adventure|Comedy|Family|Mystery',\n",
       "       'Action|Romance|Thriller', 'Action|Fantasy|Horror|Mystery',\n",
       "       'Adventure|Drama|Thriller', 'Biography|Comedy|Crime|Drama',\n",
       "       'Action|Sci-Fi|War', 'Drama|Sci-Fi',\n",
       "       'Action|Adventure|Animation|Family|Fantasy',\n",
       "       'Action|Crime|Fantasy|Romance|Thriller', 'Adventure|Comedy|Sci-Fi',\n",
       "       'Action|Crime|Sport|Thriller',\n",
       "       'Action|Adventure|Biography|Drama|History|Thriller',\n",
       "       'Action|Comedy|Sci-Fi', 'Action|Drama|Thriller|War',\n",
       "       'Drama|Mystery|Thriller', 'Action|Adventure|Fantasy|Thriller',\n",
       "       'Crime|Drama', 'Drama|History|Romance|War',\n",
       "       'Animation|Comedy|Family|Sport', 'Comedy|Sci-Fi|Thriller',\n",
       "       'Drama|History|War', 'Adventure|Animation|Comedy|Family|Romance',\n",
       "       'Drama|Family|Fantasy|Romance', 'Drama|Fantasy|Thriller',\n",
       "       'Drama|Mystery|Romance|Sci-Fi|Thriller',\n",
       "       'Drama|History|War|Western', 'Action|Adventure|Animation|Family',\n",
       "       'Adventure|Comedy|Family|Mystery|Sci-Fi',\n",
       "       'Drama|Fantasy|Horror|Mystery|Thriller',\n",
       "       'Animation|Comedy|Family|Sci-Fi',\n",
       "       'Adventure|Comedy|Drama|Fantasy|Romance',\n",
       "       'Action|Adventure|Comedy|Crime|Thriller', 'Crime|Drama|Thriller',\n",
       "       'Adventure|Animation|Family|Fantasy|Musical|War', 'Action|Comedy',\n",
       "       'Crime|Drama|Mystery|Thriller', 'Adventure|Drama|History',\n",
       "       'Action|Adventure|Animation|Family|Fantasy|Sci-Fi',\n",
       "       'Adventure|Animation|Comedy|Family|Fantasy|Music',\n",
       "       'Drama|History|Thriller|War', 'Action|Animation|Comedy|Sci-Fi',\n",
       "       'Comedy|Family|Fantasy|Horror|Mystery',\n",
       "       'Drama|Mystery|Sci-Fi|Thriller', 'Action|Horror|Sci-Fi|Thriller',\n",
       "       'Crime|Mystery|Thriller',\n",
       "       'Action|Adventure|Comedy|Crime|Mystery|Thriller',\n",
       "       'Comedy|Drama|Sci-Fi', 'Action|Family|Fantasy|Musical',\n",
       "       'Drama|History|Sport', 'Adventure|Drama|Romance',\n",
       "       'Animation|Comedy|Family|Music|Romance',\n",
       "       'Animation|Comedy|Family|Fantasy|Musical|Romance',\n",
       "       'Crime|Drama|Horror|Mystery|Thriller', 'Adventure|Comedy|Family',\n",
       "       'Action|Adventure|Comedy|Fantasy', 'Comedy|Drama|Music|Musical',\n",
       "       'Adventure|Comedy|Drama|Family|Fantasy',\n",
       "       'Action|Comedy|Fantasy|Romance', 'Comedy|Romance|Sci-Fi',\n",
       "       'Adventure|Comedy|Mystery', 'Comedy|Drama|Fantasy|Romance',\n",
       "       'Action|Comedy|Family|Fantasy',\n",
       "       'Action|Adventure|Fantasy|Horror|Sci-Fi',\n",
       "       'Crime|Drama|History|Mystery|Thriller', 'Comedy|Drama',\n",
       "       'Adventure|Animation|Comedy|Drama|Family|Fantasy|Sci-Fi',\n",
       "       'Action|Drama|Romance|Sci-Fi|Thriller', 'Comedy|Crime|Sport',\n",
       "       'Comedy|Family|Fantasy|Romance',\n",
       "       'Action|Adventure|Crime|Drama|Sci-Fi|Thriller',\n",
       "       'Adventure|Drama|History|Romance|War', 'Comedy|Family|Sci-Fi',\n",
       "       'Fantasy|Horror|Mystery|Thriller',\n",
       "       'Adventure|Animation|Comedy|Family|Fantasy|Sci-Fi|Sport',\n",
       "       'Adventure|Comedy|Crime|Family|Mystery', 'Drama|Sci-Fi|Thriller',\n",
       "       'Action|Crime|Mystery|Romance|Thriller',\n",
       "       'Action|Adventure|Comedy|Romance',\n",
       "       'Adventure|Animation|Family|Western', 'Comedy|Family|Romance',\n",
       "       'Action|Adventure|Family|Sci-Fi|Thriller',\n",
       "       'Animation|Family|Fantasy|Music',\n",
       "       'Action|Adventure|Family|Fantasy|Thriller', 'Comedy|Fantasy',\n",
       "       'Action|Adventure|Comedy|Fantasy|Thriller',\n",
       "       'Drama|Horror|Mystery|Sci-Fi', 'Action|Sci-Fi|Thriller',\n",
       "       'Drama|History|Thriller', 'Adventure|Animation|Family',\n",
       "       'Drama|Musical|Romance', 'Documentary|Drama',\n",
       "       'Action|Adventure|Drama|History|Romance', 'Animation|Family',\n",
       "       'Adventure|Animation|Drama|Family|Musical',\n",
       "       'Animation|Comedy|Family|Fantasy|Sci-Fi',\n",
       "       'Adventure|Animation|Drama|Family|Fantasy', 'Sci-Fi|Thriller',\n",
       "       'Animation|Comedy|Family', 'Action|Crime|Fantasy|Thriller',\n",
       "       'Comedy|Drama|Family|Music|Musical|Romance',\n",
       "       'Horror|Mystery|Thriller', 'Action|Adventure|Comedy|Family|Sci-Fi',\n",
       "       'Comedy|Family', 'Biography|Comedy|Drama|History',\n",
       "       'Drama|Music|Musical', 'Crime|Drama|Mystery', 'Comedy|Crime|Music',\n",
       "       'Action|Comedy|Romance|Thriller',\n",
       "       'Animation|Comedy|Family|Fantasy|Mystery',\n",
       "       'Comedy|Crime|Drama|Romance', 'Action|Adventure|Romance|Thriller',\n",
       "       'Drama|History|Romance', 'Action|Drama|Fantasy|Romance',\n",
       "       'Action|Adventure|Animation|Family|Sci-Fi', 'Action|Drama|Sci-Fi',\n",
       "       'Drama|Horror|Sci-Fi|Thriller', 'Animation|Comedy|Fantasy',\n",
       "       'Action|Animation|Comedy|Family',\n",
       "       'Action|Adventure|Comedy|Romance|Thriller', 'Action|Comedy|Sport',\n",
       "       'Biography|Drama|History|War', 'Adventure|Animation|Comedy',\n",
       "       'Action|Drama|Sport', 'Adventure|Drama|Family',\n",
       "       'Drama|Mystery|Romance|Thriller',\n",
       "       'Adventure|Animation|Comedy|Family|Fantasy|Romance',\n",
       "       'Adventure|Drama|War', 'Action|Adventure|Crime|Thriller',\n",
       "       'Adventure|Drama|Fantasy|Mystery|Thriller',\n",
       "       'Fantasy|Mystery|Romance|Sci-Fi|Thriller',\n",
       "       'Drama|Fantasy|Mystery|Thriller',\n",
       "       'Animation|Comedy|Family|Fantasy|Music',\n",
       "       'Drama|Horror|Romance|Thriller', 'Drama|War', 'Drama',\n",
       "       'Action|Drama|Fantasy|Horror|War',\n",
       "       'Adventure|Family|Fantasy|Romance',\n",
       "       'Adventure|Biography|Drama|History|War',\n",
       "       'Action|Adventure|Horror|Sci-Fi', 'Action|Fantasy|Horror',\n",
       "       'Comedy|Drama|Musical|Romance', 'Action|Sci-Fi|Sport',\n",
       "       'Action|Adventure|Animation|Comedy|Crime|Family|Fantasy',\n",
       "       'Adventure|Animation|Family|Fantasy|Musical',\n",
       "       'Action|Crime|Mystery|Sci-Fi|Thriller',\n",
       "       'Action|Comedy|Crime|Drama|Thriller',\n",
       "       'Adventure|Drama|History|Romance', 'Biography|Drama|Thriller',\n",
       "       'Action|Drama|History|Thriller', 'Action|Adventure|Fantasy|War',\n",
       "       'Comedy|Fantasy|Romance',\n",
       "       'Action|Adventure|Comedy|Romance|Thriller|Western',\n",
       "       'Biography|Drama|Sport|War', 'Comedy|Drama|Family|Musical',\n",
       "       'Action|Adventure|Fantasy|Horror|Sci-Fi|Thriller', 'Drama|Sport',\n",
       "       'Action|Fantasy|Sci-Fi|Thriller', 'Drama|Mystery|Romance',\n",
       "       'Adventure|Biography|Drama|History|Sport|Thriller',\n",
       "       'Crime|Drama|Fantasy', 'Adventure|Biography|Crime|Drama|Western',\n",
       "       'Action|War', 'Comedy|Romance|Sport',\n",
       "       'Crime|Drama|Mystery|Thriller|Western', 'Comedy|Sport',\n",
       "       'Comedy|Drama|Family', 'Crime|Drama|Fantasy|Mystery',\n",
       "       'Adventure|Animation|Biography|Drama|Family|Fantasy|Musical',\n",
       "       'Drama|Romance|Western', 'Documentary|Music', 'Drama|Thriller',\n",
       "       'Animation|Family|Fantasy', 'Action|Fantasy|Horror|Sci-Fi',\n",
       "       'Biography|Comedy|Drama', 'Action|Horror|Sci-Fi',\n",
       "       'Adventure|Comedy', 'Biography|Drama|History|Sport',\n",
       "       'Comedy|Crime|Romance|Thriller', 'Comedy|Crime|Romance',\n",
       "       'Horror|Mystery|Sci-Fi|Thriller', 'Biography|Drama|Music',\n",
       "       'Drama|Fantasy|Sport', 'Adventure|Comedy|Drama|Music',\n",
       "       'Action|Fantasy|Horror|Sci-Fi|Thriller',\n",
       "       'Adventure|Animation|Comedy|Drama|Family|Fantasy|Romance',\n",
       "       'Horror|Sci-Fi|Thriller', 'Drama|Fantasy|Mystery|Romance|Thriller',\n",
       "       'Action|Adventure|Drama|History|Romance|War',\n",
       "       'Drama|Fantasy|Mystery|Romance', 'Fantasy|Horror|Mystery|Romance',\n",
       "       'Adventure|Comedy|Family|Romance|Sci-Fi', 'Drama|Horror|Thriller',\n",
       "       'Action|Comedy|Mystery|Romance',\n",
       "       'Action|Adventure|Comedy|Romance|Sci-Fi',\n",
       "       'Action|Biography|Drama|History|Thriller|War',\n",
       "       'Adventure|Comedy|Family|Fantasy|Horror',\n",
       "       'Comedy|Family|Romance|Sci-Fi', 'Action|Adventure|Thriller|War',\n",
       "       'Comedy|Drama|Romance|Sport', 'Comedy|Western',\n",
       "       'Action|Comedy|Crime|Drama', 'Drama|Music|Romance|War',\n",
       "       'Action|Comedy|Drama|Family|Thriller', 'Action|Crime',\n",
       "       'Adventure|Animation|Drama|Family|History|Musical|Romance',\n",
       "       'Action|Adventure|Drama|Romance|Sci-Fi',\n",
       "       'Action|Adventure|Comedy|Family|Romance',\n",
       "       'Action|Adventure|Comedy|Western',\n",
       "       'Biography|Drama|History|Musical',\n",
       "       'Adventure|Drama|Horror|Thriller', 'Action|Drama|Sport|Thriller',\n",
       "       'Drama|Musical|Romance|Thriller', 'Comedy|Drama|Family|Fantasy',\n",
       "       'Adventure|Comedy|Crime|Family|Musical',\n",
       "       'Drama|Music|Musical|Romance', 'Drama|Mystery|Romance|War',\n",
       "       'Crime|Drama|Romance', 'Crime|Horror|Mystery|Thriller',\n",
       "       'Adventure|Animation|Drama|Family|Fantasy|Musical|Mystery|Romance',\n",
       "       'Action|Horror|Thriller', 'Drama|History|Horror',\n",
       "       'Drama|Romance|Sport', 'Comedy|Family|Musical|Romance',\n",
       "       'Romance|Sci-Fi|Thriller', 'Biography|Comedy|Drama|Romance',\n",
       "       'Mystery|Sci-Fi|Thriller', 'Drama|Fantasy|Horror',\n",
       "       'Adventure|Comedy|Drama|Fantasy|Musical', 'Horror|Mystery',\n",
       "       'Action|Adventure|Family|Fantasy|Sci-Fi|Thriller',\n",
       "       'Adventure|Comedy|Family|Fantasy|Romance|Sport',\n",
       "       'Adventure|Horror|Mystery', 'Crime|Drama|Romance|Thriller',\n",
       "       'Comedy|Crime|Drama|Thriller', 'Drama|Fantasy',\n",
       "       'Adventure|Comedy|Drama', 'Action|Biography|Drama|History|War',\n",
       "       'Adventure|Comedy|Fantasy', 'Adventure|Comedy|Crime|Drama|Family',\n",
       "       'Action|Biography|Crime|Drama|Thriller', 'Comedy|Sci-Fi',\n",
       "       'Drama|Romance|Sci-Fi',\n",
       "       'Action|Adventure|Comedy|Crime|Music|Mystery',\n",
       "       'Comedy|Drama|Music', 'Action|Crime|Drama|Sci-Fi|Thriller',\n",
       "       'Horror|Thriller', 'Action|Adventure|Comedy|Drama|War',\n",
       "       'Drama|Mystery|Sci-Fi', 'Crime|Drama|Music',\n",
       "       'Adventure|Crime|Drama|Western', 'Comedy|Drama|Thriller',\n",
       "       'Drama|Romance|War', 'Action|Comedy|Crime|Music|Romance|Thriller',\n",
       "       'Crime|Romance|Thriller', 'Action|Adventure|Drama|Sci-Fi|Thriller',\n",
       "       'Action|Drama|Fantasy|Thriller|Western',\n",
       "       'Action|Drama|Mystery|Thriller|War',\n",
       "       'Biography|Crime|Drama|Thriller', 'Action|Comedy|Crime|Romance',\n",
       "       'Action|Adventure|Family|Fantasy|Sci-Fi',\n",
       "       'Adventure|Comedy|Family|Musical', 'Action|Horror',\n",
       "       'Action|Adventure|Horror|Thriller', 'Comedy|Drama|Music|Romance',\n",
       "       'Action|Crime|Drama|Romance|Thriller',\n",
       "       'Comedy|Family|Romance|Sport', 'Drama|Family|Fantasy',\n",
       "       'Drama|Fantasy|Musical|Romance',\n",
       "       'Adventure|Comedy|Family|Fantasy|Sci-Fi', 'Comedy|Musical',\n",
       "       'Biography|Drama|History', 'Action|Crime|Drama|Thriller|War',\n",
       "       'Comedy|Crime|Thriller', 'Drama|Fantasy|Horror|Mystery',\n",
       "       'Action|Animation|Comedy|Family|Fantasy',\n",
       "       'Biography|Drama|History|Thriller',\n",
       "       'Action|Adventure|Crime|Drama|Mystery|Thriller',\n",
       "       'Animation|Family|Fantasy|Musical', 'Adventure|Drama|Western',\n",
       "       'Biography|Drama|History|Romance', 'Drama|Horror|Mystery|Thriller',\n",
       "       'Action|Fantasy|Western', 'Comedy|War', 'Drama|Music',\n",
       "       'Action|Drama|Family|Sport', 'Action|Biography|Drama|Thriller|War',\n",
       "       'Comedy|Drama|Sport', 'Adventure|Comedy|Sci-Fi|Western',\n",
       "       'Fantasy|Horror|Romance', 'Biography|Drama|Romance',\n",
       "       'Action|Adventure|Drama|Romance|War',\n",
       "       'Adventure|Comedy|Crime|Romance',\n",
       "       'Comedy|Drama|Family|Fantasy|Romance', 'Horror', 'Comedy|Music',\n",
       "       'Action|Adventure|Drama|Romance|Thriller',\n",
       "       'Biography|Drama|Music|Musical', 'Drama|History',\n",
       "       'Comedy|Music|Romance',\n",
       "       'Action|Adventure|Crime|Fantasy|Mystery|Thriller',\n",
       "       'Adventure|Drama|Mystery', 'Biography|Crime|Drama|Music',\n",
       "       'Crime|Drama|Horror|Thriller',\n",
       "       'Adventure|Animation|Comedy|Drama|Family|Fantasy|Musical',\n",
       "       'Action|Adventure|Comedy|Music|Thriller',\n",
       "       'Adventure|Animation|Comedy|Crime|Family',\n",
       "       'Comedy|Romance|Sci-Fi|Thriller', 'Comedy|Crime|Family|Romance',\n",
       "       'Crime|Horror|Thriller', 'Action|Horror|Mystery|Sci-Fi|Thriller',\n",
       "       'Comedy|Fantasy|Sci-Fi',\n",
       "       'Adventure|Animation|Comedy|Fantasy|Romance',\n",
       "       'Action|Adventure|Family|Thriller',\n",
       "       'Adventure|Comedy|Drama|Romance|Thriller|War',\n",
       "       'Adventure|Animation|Comedy|Fantasy|Music|Romance',\n",
       "       'Action|Drama|Fantasy', 'Action|Adventure|Drama|Fantasy|War',\n",
       "       'Drama|Fantasy|Romance|Sci-Fi',\n",
       "       'Animation|Comedy|Family|Horror|Sci-Fi',\n",
       "       'Biography|Drama|Romance|Sport', 'Action|Biography|Drama',\n",
       "       'Adventure|Drama', 'Horror|Mystery|Sci-Fi',\n",
       "       'Action|Adventure|Drama|Thriller|Western',\n",
       "       'Adventure|Family|Fantasy|Sci-Fi',\n",
       "       'Adventure|Comedy|History|Romance', 'Action|Biography|Drama|Sport',\n",
       "       'Drama|Family',\n",
       "       'Action|Adventure|Crime|Drama|Family|Fantasy|Romance|Thriller',\n",
       "       'Biography|Comedy|Romance', 'Action|Biography|Drama|History',\n",
       "       'Biography|Drama|War', 'Adventure|Comedy|Family|Sci-Fi',\n",
       "       'Biography|Drama|Family|History|Sport',\n",
       "       'Biography|Comedy|Drama|History|Music', 'Fantasy|Horror',\n",
       "       'Comedy|Drama|Family|Sport', 'Comedy|Drama|Romance|Sci-Fi',\n",
       "       'Adventure|Animation|Comedy|Family|War',\n",
       "       'Action|Comedy|Sci-Fi|Thriller', 'Comedy|Horror',\n",
       "       'Drama|Thriller|War', 'Action|Western',\n",
       "       'Action|Adventure|Family|Sci-Fi',\n",
       "       'Adventure|Biography|Drama|Thriller', 'Drama|Romance|War|Western',\n",
       "       'Action|Comedy|Crime|Western',\n",
       "       'Action|Adventure|Comedy|Drama|Thriller', 'Drama|Music|Romance',\n",
       "       'Action|Adventure|Crime|Drama|Thriller',\n",
       "       'Adventure|Comedy|Family|Sport', 'Comedy|Drama|Fantasy',\n",
       "       'Comedy|Family|Sport', 'Action|Adventure|Drama|Family',\n",
       "       'Action|Comedy|War', 'Drama|Family|Sport',\n",
       "       'Action|Thriller|Western', 'Action|Drama|Fantasy|Horror|Thriller',\n",
       "       'Animation|Comedy|Family|Fantasy|Musical',\n",
       "       'Action|Adventure|Comedy|Fantasy|Romance',\n",
       "       'Action|Crime|Drama|Mystery|Sci-Fi|Thriller',\n",
       "       'Adventure|Comedy|Crime|Drama', 'Drama|Mystery',\n",
       "       'Comedy|Fantasy|Horror|Thriller',\n",
       "       'Crime|Drama|Mystery|Sci-Fi|Thriller', 'Comedy|Crime|Musical',\n",
       "       'Comedy|Drama|Family|Music|Romance', 'Comedy|Horror|Romance',\n",
       "       'Comedy|Family|Fantasy|Sport',\n",
       "       'Animation|Comedy|Family|Mystery|Sci-Fi',\n",
       "       'Adventure|Comedy|Drama|Family|Sport',\n",
       "       'Animation|Drama|Family|Fantasy|Musical|Romance',\n",
       "       'Comedy|Horror|Musical|Sci-Fi', 'Crime|Drama|Sport',\n",
       "       'Action|Adventure|Animation|Drama|Mystery|Sci-Fi|Thriller',\n",
       "       'Action|Adventure|Crime|Drama|Romance', 'Action|Comedy|Horror',\n",
       "       'Adventure|Horror|Thriller', 'Adventure|Fantasy|Mystery',\n",
       "       'Action|Drama|Romance|Sport',\n",
       "       'Biography|Crime|Drama|History|Western',\n",
       "       'Action|Biography|Crime|Drama', 'Adventure|Animation|Fantasy',\n",
       "       'Adventure|Animation|Comedy|Fantasy',\n",
       "       'Biography|Drama|Music|Romance',\n",
       "       'Adventure|Drama|Mystery|Sci-Fi|Thriller',\n",
       "       'Biography|Comedy|Crime|Drama|Romance|Thriller',\n",
       "       'Biography|Crime|Drama|History|Music',\n",
       "       'Adventure|Animation|Comedy|Drama|Family|Musical',\n",
       "       'Biography|Comedy|Drama|Music|Romance',\n",
       "       'Adventure|Animation|Sci-Fi', 'Drama|Romance|Thriller',\n",
       "       'Action|Fantasy|Horror|Thriller', 'Adventure|Biography',\n",
       "       'Action|Comedy|Family', 'Action|Horror|Romance',\n",
       "       'Adventure|Drama|History|Romance|Thriller|War',\n",
       "       'Crime|Drama|Sci-Fi|Thriller', 'Action|Comedy|Crime|Music',\n",
       "       'Comedy|Drama|Family|Romance',\n",
       "       'Action|Drama|Fantasy|Mystery|Sci-Fi|Thriller',\n",
       "       'Adventure|Family|Fantasy|Horror|Mystery',\n",
       "       'Action|Crime|Drama|History|Western', 'Comedy|Crime|Drama',\n",
       "       'Comedy|Family|Fantasy|Music|Romance',\n",
       "       'Adventure|Comedy|Crime|Music',\n",
       "       'Action|Adventure|Comedy|Sci-Fi|Thriller',\n",
       "       'Action|Crime|Drama|Western',\n",
       "       'Action|Adventure|Comedy|Family|Romance|Sci-Fi',\n",
       "       'Action|Fantasy|Romance|Sci-Fi', 'Comedy|Crime|Mystery|Romance',\n",
       "       'Adventure|Family', 'Action|Drama|Music|Romance',\n",
       "       'Adventure|Comedy|Family|Fantasy|Horror|Mystery',\n",
       "       'Adventure|Fantasy|Mystery|Thriller',\n",
       "       'Action|Biography|Drama|History|Romance|Western',\n",
       "       'Fantasy|Horror|Mystery', 'Biography|Drama|Family',\n",
       "       'Action|Adventure|Comedy|Crime|Family|Romance|Thriller',\n",
       "       'Comedy|Fantasy|Horror|Romance', 'Comedy|Family|Music',\n",
       "       'Action|Comedy|Music', 'Adventure|Comedy|Crime',\n",
       "       'Biography|Comedy|Drama|Sport', 'Fantasy|Horror|Thriller',\n",
       "       'Comedy|Drama|Romance|Thriller', 'Adventure|Comedy|Family|Romance',\n",
       "       'Adventure|Family|Fantasy|Musical',\n",
       "       'Biography|Crime|Drama|History|Thriller',\n",
       "       'Action|Animation|Comedy|Family|Fantasy|Sci-Fi',\n",
       "       'Crime|Drama|History', 'Biography|Drama|Thriller|War',\n",
       "       'Drama|Music|Mystery|Romance|Thriller',\n",
       "       'Action|Adventure|Fantasy|Horror', 'Crime|Drama|Mystery|Romance',\n",
       "       'Action|Adventure|History|Romance', 'Action|Drama|Western',\n",
       "       'Adventure|Comedy|Family|Fantasy|Music|Sci-Fi',\n",
       "       'Adventure|Family|Fantasy|Music|Musical',\n",
       "       'Action|Adventure|Animation|Comedy|Fantasy',\n",
       "       'Adventure|Comedy|Horror|Sci-Fi', 'Horror|Sci-Fi',\n",
       "       'Biography|Comedy|Drama|Family|Sport',\n",
       "       'Action|Crime|Drama|Thriller|Western', 'Action|Drama|History',\n",
       "       'Drama|Fantasy|Romance|Thriller', 'Thriller', 'Comedy|Mystery',\n",
       "       'Comedy|Drama|Musical|Romance|War',\n",
       "       'Drama|History|Music|Romance|War', 'Comedy|History',\n",
       "       'Adventure|Animation|Family|Sport',\n",
       "       'Animation|Comedy|Fantasy|Musical', 'Game-Show|Reality-TV|Romance',\n",
       "       'Action|Comedy|Documentary',\n",
       "       'Adventure|Comedy|Drama|Family|Romance',\n",
       "       'Adventure|Comedy|Drama|Family|Mystery',\n",
       "       'Drama|Family|Music|Romance', 'Fantasy|Romance',\n",
       "       'Adventure|Animation|Family|Musical',\n",
       "       'Animation|Comedy|Drama|Family|Musical',\n",
       "       'Biography|Crime|Drama|History',\n",
       "       'Adventure|Comedy|Fantasy|Music|Sci-Fi',\n",
       "       'Comedy|Drama|Musical|Romance|Western',\n",
       "       'Action|Adventure|Drama|Mystery',\n",
       "       'Comedy|Crime|Family|Mystery|Romance|Thriller',\n",
       "       'Action|Adventure|Drama|Romance|Western',\n",
       "       'Adventure|Crime|Mystery|Sci-Fi|Thriller', 'Crime|Drama|Western',\n",
       "       'Adventure|Comedy|Drama|Fantasy', 'Adventure|Biography|Drama',\n",
       "       'Adventure|Drama|Horror|Mystery|Thriller', 'Crime|Fantasy|Horror',\n",
       "       'Animation|Family|Fantasy|Mystery', 'Action|Comedy|Crime|Fantasy',\n",
       "       'Comedy|Family|Music|Musical', 'Crime|Documentary|News',\n",
       "       'Drama|Mystery|Romance|Thriller|War', 'Action|Crime|Drama|Sport',\n",
       "       'Comedy|Drama|Music|War', 'Comedy|Musical|Romance',\n",
       "       'Comedy|Drama|Music|Musical|Romance',\n",
       "       'Comedy|Crime|Drama|Mystery|Romance',\n",
       "       'Biography|Comedy|Drama|History|Music|Musical',\n",
       "       'Animation|Drama|Mystery|Sci-Fi|Thriller',\n",
       "       'Adventure|Comedy|Drama|Romance',\n",
       "       'Comedy|Drama|Mystery|Romance|Thriller|War',\n",
       "       'Biography|Comedy|Musical',\n",
       "       'Action|Adventure|Animation|Family|Sci-Fi|Thriller',\n",
       "       'Crime|Drama|Mystery|Romance|Thriller',\n",
       "       'Comedy|Family|Fantasy|Sci-Fi',\n",
       "       'Action|Comedy|Crime|Fantasy|Horror|Mystery|Sci-Fi|Thriller',\n",
       "       'Romance|Short', 'Animation', 'Drama|Horror',\n",
       "       'Comedy|Drama|Reality-TV|Romance', 'Adventure|Comedy|Romance',\n",
       "       'Family|Fantasy|Music', 'Crime|Drama|Music|Thriller',\n",
       "       'Action|Drama|Fantasy|Mystery|Thriller',\n",
       "       'Biography|Drama|History|Music', 'Biography|Drama|Family|Sport',\n",
       "       'Comedy|Drama|War', 'Biography|Drama|Romance|War',\n",
       "       'Action|Horror|Romance|Sci-Fi|Thriller', 'Music',\n",
       "       'Action|Drama|History|Romance|War|Western',\n",
       "       'Action|Animation|Sci-Fi|Thriller',\n",
       "       'Action|Animation|Comedy|Crime|Family',\n",
       "       'Drama|Family|Music|Musical', 'Drama|Family|Musical|Romance',\n",
       "       'Comedy|Drama|Family|Fantasy|Sci-Fi',\n",
       "       'Comedy|Crime|Drama|Music|Romance',\n",
       "       'Adventure|Comedy|Family|Fantasy|Musical',\n",
       "       'Adventure|Crime|Drama|Romance', 'Comedy|Mystery|Sci-Fi|Thriller',\n",
       "       'Sci-Fi', 'Drama|Fantasy|War', 'Action|Comedy|Crime|Family',\n",
       "       'Action|Comedy|Mystery', 'Comedy|Crime|Mystery',\n",
       "       'Action|Crime|Sci-Fi', 'Comedy|Horror|Sci-Fi',\n",
       "       'Action|Comedy|Drama|Thriller', 'Drama|Family|Romance',\n",
       "       'Adventure|Comedy|Family|Music|Romance', 'Comedy|Horror|Thriller',\n",
       "       'Comedy|Family|Music|Romance',\n",
       "       'Adventure|Fantasy|Horror|Mystery|Thriller',\n",
       "       'Crime|Drama|Musical|Romance', 'Family|Music|Romance',\n",
       "       'Drama|Fantasy|Mystery|Sci-Fi',\n",
       "       'Biography|Drama|History|Thriller|War',\n",
       "       'Adventure|Crime|Drama|Mystery|Western',\n",
       "       'Drama|Fantasy|Horror|Romance', 'Comedy|Crime|Drama|Thriller|War',\n",
       "       'Action|Adventure|Drama|History|Thriller|War',\n",
       "       'Action|Comedy|Drama|War', 'Comedy|Drama|Fantasy|Music|Romance',\n",
       "       'Biography|Drama|Fantasy|History', 'Biography',\n",
       "       'Drama|Family|Music', 'Adventure|Mystery|Thriller',\n",
       "       'Comedy|Mystery|Romance', 'Biography|Crime|Drama|War',\n",
       "       'Crime|Drama|Music|Mystery|Thriller', 'Biography|Comedy|Drama|War',\n",
       "       'Comedy|Crime|Family|Sci-Fi', 'Adventure|Family|Sci-Fi',\n",
       "       'Adventure|Comedy|Romance|Sci-Fi',\n",
       "       'Action|Adventure|Comedy|Family',\n",
       "       'Biography|Comedy|Crime|Drama|Romance', 'Crime|Drama|Musical',\n",
       "       'Animation|Comedy|Crime|Drama|Family',\n",
       "       'Action|Adventure|Comedy|Fantasy|Mystery',\n",
       "       'Action|Adventure|Drama|Thriller|War', 'Crime|Drama|Music|Romance',\n",
       "       'Adventure|Animation|Comedy|Crime',\n",
       "       'Adventure|Comedy|Fantasy|Sci-Fi',\n",
       "       'Comedy|Drama|Family|Fantasy|Musical',\n",
       "       'Action|Adventure|Biography|Drama|History', 'Comedy|Crime|Family',\n",
       "       'Adventure|Drama|Thriller|War', 'Comedy|Drama|Horror|Sci-Fi',\n",
       "       'Adventure|Crime|Thriller', 'Mystery|Romance|Sci-Fi|Thriller',\n",
       "       'Fantasy|Mystery|Thriller', 'Family|Musical',\n",
       "       'Adventure|Crime|Drama|Mystery|Thriller',\n",
       "       'Drama|Fantasy|Music|Romance', 'Adventure|Drama|History|War',\n",
       "       'Family|Sci-Fi', 'Drama|History|Romance|Western',\n",
       "       'Adventure|Comedy|Music|Sci-Fi', 'Drama|Family|Musical',\n",
       "       'Action|Comedy|Drama|Music', 'Fantasy|Horror|Sci-Fi', 'Western',\n",
       "       'Comedy|Romance|Thriller', 'Biography|Crime|Drama|Romance',\n",
       "       'Adventure|Comedy|Drama|Romance|Sci-Fi',\n",
       "       'Drama|Music|Mystery|Romance', 'Action|Crime|Drama',\n",
       "       'Adventure|Biography|Drama|War', 'Action|Comedy|Drama',\n",
       "       'Adventure|Animation', 'Comedy|Drama|Horror|Romance',\n",
       "       'Action|Comedy|Drama|Western', 'Comedy|Crime|Drama|Mystery',\n",
       "       'Adventure|Animation|Fantasy|Horror|Sci-Fi',\n",
       "       'Action|Drama|Romance|Thriller',\n",
       "       'Biography|Comedy|Drama|Family|Romance',\n",
       "       'Action|Biography|Drama|History|Romance|War',\n",
       "       'Action|Animation|Fantasy|Horror|Mystery|Sci-Fi|Thriller',\n",
       "       'Action|Adventure|Animation|Drama|Fantasy|Sci-Fi',\n",
       "       'Horror|Musical|Sci-Fi', 'Biography|Drama|Family|Musical|Romance',\n",
       "       'Comedy|Crime|Drama|Romance|Thriller',\n",
       "       'Adventure|Drama|Fantasy|Mystery',\n",
       "       'Animation|Comedy|Drama|Romance', 'Comedy|Crime|Musical|Romance',\n",
       "       'Comedy|Crime|Musical|Mystery', 'Action|Animation|Sci-Fi',\n",
       "       'Drama|War|Western', 'Drama|Romance|Sci-Fi|Thriller',\n",
       "       'Animation|Biography|Drama|War', 'Adventure|Fantasy|Thriller',\n",
       "       'Documentary|Sport', 'Crime|Horror',\n",
       "       'Adventure|Biography|Drama|History',\n",
       "       'Action|Crime|Horror|Sci-Fi|Thriller',\n",
       "       'Comedy|Fantasy|Horror|Mystery',\n",
       "       'Action|Adventure|Animation|Comedy|Drama|Family|Fantasy|Thriller',\n",
       "       'Action|Adventure|Drama|Fantasy|Sci-Fi', 'Drama|Mystery|War',\n",
       "       'Action|Comedy|Crime|Drama|Romance|Thriller',\n",
       "       'Comedy|Drama|Musical', 'Mystery|Romance|Thriller',\n",
       "       'Adventure|Comedy|Drama|Family', 'Action|Adventure|Drama|Western',\n",
       "       'Musical|Romance', 'Documentary|Drama|War',\n",
       "       'Biography|Crime|Drama|Western', 'Comedy|Family|Fantasy|Musical',\n",
       "       'Crime|Drama|Musical|Romance|Thriller',\n",
       "       'Fantasy|Horror|Romance|Thriller', 'Adventure|Documentary|Short',\n",
       "       'Adventure|Crime|Drama|Thriller', 'Thriller|War', 'Action|Sport',\n",
       "       'Musical', 'Mystery|Western', 'Comedy|Drama|History|Romance',\n",
       "       'Comedy|Horror|Sci-Fi|Thriller',\n",
       "       'Drama|Horror|Mystery|Sci-Fi|Thriller', 'Comedy|Documentary',\n",
       "       'Adventure|Drama|Family|Fantasy|Sci-Fi',\n",
       "       'Adventure|Drama|Family|Romance|Western', 'Adventure|Horror',\n",
       "       'Comedy|Music|Sci-Fi', 'Biography|Crime|Drama|Romance|Thriller',\n",
       "       'Comedy|Crime|Drama|Mystery|Thriller',\n",
       "       'Biography|Crime|Drama|Mystery|Thriller',\n",
       "       'Crime|Horror|Music|Thriller', 'Crime|Documentary|War',\n",
       "       'Crime|Thriller|War', 'Comedy|Crime|Horror|Thriller',\n",
       "       'Animation|Comedy', 'Family', 'Comedy|Drama|Romance|War',\n",
       "       'Biography|Drama|Romance|Western', 'Drama|Musical',\n",
       "       'Adventure|Comedy|Western', 'Action|Drama|History|Thriller|War',\n",
       "       'Fantasy|Thriller', 'Drama|Horror|Mystery',\n",
       "       'Adventure|Drama|History|Thriller|War',\n",
       "       'Comedy|Documentary|Drama|Fantasy|Mystery|Sci-Fi',\n",
       "       'Crime|Drama|Fantasy|Romance', 'Action|Crime|Horror|Thriller',\n",
       "       'Comedy|Horror|Mystery', 'Drama|Family|History|Musical',\n",
       "       'Adventure|Biography|Drama|Romance', 'Adventure|War|Western',\n",
       "       'Biography|Comedy|Musical|Romance|Western',\n",
       "       'Adventure|Comedy|Musical|Romance', 'Comedy|Drama|Romance|Western',\n",
       "       'Action|Adventure|Comedy|Musical', 'Comedy|Drama|Fantasy|Horror',\n",
       "       'Action|Biography|Crime|Drama|Family|Fantasy',\n",
       "       'Action|Animation|Crime|Sci-Fi|Thriller',\n",
       "       'Action|Comedy|Horror|Thriller', 'Crime|Documentary|Drama',\n",
       "       'Biography|Comedy|Documentary', 'Comedy|Thriller',\n",
       "       'Comedy|Documentary|Music', 'Action|Adventure|Romance|Western',\n",
       "       'Crime|Drama|History|Romance', 'Family|Fantasy|Musical',\n",
       "       'Comedy|Drama|Horror', 'Drama|Family|Western',\n",
       "       'Comedy|Drama|Horror|Sci-Fi|Thriller', 'Drama|Horror|Romance',\n",
       "       'Adventure|Crime|Drama', 'Action|Adventure|Crime|Drama',\n",
       "       'Adventure|Family|Sport', 'Romance',\n",
       "       'Action|Adventure|Animation|Comedy|Sci-Fi',\n",
       "       'Drama|Fantasy|Romance|War', 'Documentary|History|Sport',\n",
       "       'Action|Drama|Horror|Thriller', 'Comedy|Crime|Drama|Sci-Fi',\n",
       "       'Comedy|Family|Musical|Romance|Short', 'Comedy|Documentary|War',\n",
       "       'Comedy|Drama|Mystery|Romance|Thriller',\n",
       "       'Action|Comedy|Horror|Sci-Fi', 'Adventure|Drama|Romance|Western',\n",
       "       'Animation|Comedy|Drama', 'Adventure|Documentary|Drama|Sport',\n",
       "       'Crime|Documentary',\n",
       "       'Animation|Biography|Documentary|Drama|History|War',\n",
       "       'Documentary|War', 'Documentary|History',\n",
       "       'Biography|Documentary|History',\n",
       "       'Action|Adventure|Comedy|Drama|Music|Sci-Fi',\n",
       "       'Biography|Comedy|Drama|Music', 'Animation|Comedy|Family|Romance',\n",
       "       'Horror|Romance|Sci-Fi', 'Action|Comedy|Fantasy|Horror',\n",
       "       'Crime|Drama|Film-Noir|Mystery|Thriller',\n",
       "       'Comedy|Fantasy|Musical|Sci-Fi',\n",
       "       'Action|Adventure|History|Western',\n",
       "       'Documentary|Drama|History|News',\n",
       "       'Biography|Crime|Documentary|History|Thriller',\n",
       "       'Crime|Drama|Film-Noir', 'Film-Noir|Mystery|Romance|Thriller',\n",
       "       'Comedy|Crime|Sci-Fi|Thriller', 'Adventure|Comedy|Horror',\n",
       "       'Action|Crime|Drama|Mystery', 'Horror|Romance|Thriller',\n",
       "       'Drama|Film-Noir|Mystery|Thriller', 'Drama|Film-Noir',\n",
       "       'Crime|Film-Noir|Thriller', 'Action|Adventure|Romance|War',\n",
       "       'Action|Horror|Mystery|Thriller', 'Adventure|Comedy|Sport',\n",
       "       'Comedy|Horror|Musical', 'Adventure|Comedy|History',\n",
       "       'Action|Drama|Romance|War', 'Biography|Documentary|Music',\n",
       "       'Comedy|Fantasy|Mystery', 'Biography|Crime|Documentary|History',\n",
       "       'Adventure|Biography|Documentary|Drama',\n",
       "       'Action|Adventure|Comedy|Fantasy|Sci-Fi', 'Drama|Musical|Sci-Fi',\n",
       "       'Documentary|News', 'Comedy|Fantasy|Thriller',\n",
       "       'Animation|Drama|Family', 'Drama|Fantasy|Sci-Fi',\n",
       "       'Action|Comedy|Drama|Sci-Fi', 'Action|Adventure|Drama|War',\n",
       "       'Horror|Sci-Fi|Short|Thriller',\n",
       "       'Action|Adventure|Animation|Comedy|Fantasy|Sci-Fi',\n",
       "       'Thriller|Western', 'Documentary|Drama|Sport',\n",
       "       'Documentary|History|Music', 'Biography|Documentary|Drama',\n",
       "       'Adventure|Family|Romance',\n",
       "       'Adventure|Biography|Drama|Horror|Thriller',\n",
       "       'Documentary|Family|Music', 'Biography|Documentary|Sport',\n",
       "       'History', 'Action|Romance|Sport', 'Horror|Musical',\n",
       "       'Comedy|Mystery|Thriller', 'Action|Biography|Documentary|Sport',\n",
       "       'Comedy|Fantasy|Horror|Musical', 'Drama|Fantasy|Sci-Fi|Thriller',\n",
       "       'Biography|Documentary', 'Animation|Drama',\n",
       "       'Action|Fantasy|Horror|Mystery|Thriller',\n",
       "       'Action|Comedy|Sci-Fi|Sport',\n",
       "       'Comedy|Crime|Drama|Horror|Mystery|Thriller',\n",
       "       'Action|Adventure|Mystery|Romance|Thriller',\n",
       "       'Animation|Comedy|Drama|Fantasy|Sci-Fi',\n",
       "       'Action|Drama|Fantasy|Sci-Fi', 'Comedy|Short',\n",
       "       'Adventure|Drama|Fantasy|Thriller|Western',\n",
       "       'Adventure|Horror|Sci-Fi', 'Comedy|Drama|History|Musical|Romance',\n",
       "       'Comedy|Horror|Mystery|Thriller',\n",
       "       'Drama|Music|Mystery|Romance|Sci-Fi', 'Adventure|Documentary',\n",
       "       'Documentary|Family', 'Comedy|Crime|Drama|Horror|Thriller',\n",
       "       'Comedy|Documentary|Drama', 'Crime|Drama|Horror',\n",
       "       'Comedy|Crime|Horror'], dtype=object)"
      ]
     },
     "execution_count": 5,
     "metadata": {},
     "output_type": "execute_result"
    }
   ],
   "source": [
    "movie_dataset.genres.unique() #This function will give us the unique genres from the dataset"
   ]
  },
  {
   "cell_type": "code",
   "execution_count": 6,
   "metadata": {
    "colab": {
     "base_uri": "https://localhost:8080/"
    },
    "executionInfo": {
     "elapsed": 15,
     "status": "ok",
     "timestamp": 1700750397329,
     "user": {
      "displayName": "Aravindhan S",
      "userId": "11350369439612807780"
     },
     "user_tz": 0
    },
    "id": "CaljTQ0u6QZe",
    "outputId": "f0493326-aad6-45b7-fa58-a13e6de47c73",
    "scrolled": true
   },
   "outputs": [
    {
     "data": {
      "text/plain": [
       "4998"
      ]
     },
     "execution_count": 6,
     "metadata": {},
     "output_type": "execute_result"
    }
   ],
   "source": [
    "movie_dataset.genres.count() #checking the total count of genres"
   ]
  },
  {
   "cell_type": "code",
   "execution_count": 7,
   "metadata": {
    "colab": {
     "base_uri": "https://localhost:8080/"
    },
    "executionInfo": {
     "elapsed": 5,
     "status": "ok",
     "timestamp": 1700750397329,
     "user": {
      "displayName": "Aravindhan S",
      "userId": "11350369439612807780"
     },
     "user_tz": 0
    },
    "id": "DaGg7LJ_-D2L",
    "outputId": "9a37874b-b250-44bd-ed86-78516d206113"
   },
   "outputs": [
    {
     "data": {
      "text/plain": [
       "914"
      ]
     },
     "execution_count": 7,
     "metadata": {},
     "output_type": "execute_result"
    }
   ],
   "source": [
    "movie_dataset.genres.nunique() #count of unique genres"
   ]
  },
  {
   "cell_type": "code",
   "execution_count": 8,
   "metadata": {
    "colab": {
     "base_uri": "https://localhost:8080/"
    },
    "executionInfo": {
     "elapsed": 5,
     "status": "ok",
     "timestamp": 1700750397329,
     "user": {
      "displayName": "Aravindhan S",
      "userId": "11350369439612807780"
     },
     "user_tz": 0
    },
    "id": "PUBomB6y6QZe",
    "outputId": "d31c2d52-c1cb-4d84-b6b3-d250c79a8359",
    "scrolled": false
   },
   "outputs": [
    {
     "data": {
      "text/plain": [
       "0"
      ]
     },
     "execution_count": 8,
     "metadata": {},
     "output_type": "execute_result"
    }
   ],
   "source": [
    "movie_dataset.duplicated().sum() #To find out the number of duplicate records in the dataset.\n",
    "#Here we got a total of 45 Duplicate records"
   ]
  },
  {
   "cell_type": "code",
   "execution_count": 9,
   "metadata": {
    "colab": {
     "base_uri": "https://localhost:8080/",
     "height": 1000
    },
    "executionInfo": {
     "elapsed": 1975,
     "status": "ok",
     "timestamp": 1700750399300,
     "user": {
      "displayName": "Aravindhan S",
      "userId": "11350369439612807780"
     },
     "user_tz": 0
    },
    "id": "tcVFxeoS6QZe",
    "outputId": "2687382c-fbc6-4c10-9b56-d39aff5d84c9"
   },
   "outputs": [
    {
     "name": "stdout",
     "output_type": "stream",
     "text": [
      "Number of Null Values before Removal:\n",
      "color                       19\n",
      "director_name              103\n",
      "critic_Reviews              49\n",
      "duration                    15\n",
      "director_facebook_likes    103\n",
      "actor_3_facebook_likes      23\n",
      "actor_2_name                13\n",
      "actor_1_facebook_likes       7\n",
      "gross                      874\n",
      "genres                       0\n",
      "actor_1_name                 7\n",
      "movie_title                  0\n",
      "num_voted_users              0\n",
      "total_FB_Likes               0\n",
      "actor_3_name                23\n",
      "facenumber_in_poster        13\n",
      "plot_keywords              152\n",
      "movie_imdb_link              0\n",
      "num_user_for_reviews        21\n",
      "language                    14\n",
      "country                      5\n",
      "content_rating             301\n",
      "budget                     487\n",
      "title_year                 107\n",
      "actor_2_facebook_likes      13\n",
      "imdb_score                   0\n",
      "aspect_ratio               327\n",
      "movie_facebook_likes         0\n",
      "dtype: int64\n"
     ]
    },
    {
     "data": {
      "text/plain": [
       "<Axes: >"
      ]
     },
     "execution_count": 9,
     "metadata": {},
     "output_type": "execute_result"
    },
    {
     "data": {
      "image/png": "[encoded data removed]",
      "text/plain": [
       "<Figure size 640x480 with 2 Axes>"
      ]
     },
     "metadata": {},
     "output_type": "display_data"
    }
   ],
   "source": [
    "null_values_before_removal = movie_dataset.isnull().sum()\n",
    "print(\"Number of Null Values before Removal:\")\n",
    "print(null_values_before_removal) #number of null values before removal will be printed\n",
    "sns.heatmap(movie_dataset.isnull()) #number of nulls available in this file and can be shown in heatmap"
   ]
  },
  {
   "cell_type": "markdown",
   "metadata": {
    "id": "bmYu4Ho06QZe"
   },
   "source": [
    "Now the IMDB data has been imported into a \"movie_dataset\" data frame with 5043 records. Data wrangling revealed null values, 45 duplicate records, and unique movie genres. The heatmap above demonstrates how null values are spread across columns, thus we must clean the data before analysing it.\n",
    "\n",
    "In the next step, I will eliminate duplicate entries and remove the null values in the dataset to clean the data."
   ]
  },
  {
   "cell_type": "code",
   "execution_count": 10,
   "metadata": {
    "colab": {
     "base_uri": "https://localhost:8080/",
     "height": 1000
    },
    "executionInfo": {
     "elapsed": 1379,
     "status": "ok",
     "timestamp": 1700750400675,
     "user": {
      "displayName": "Aravindhan S",
      "userId": "11350369439612807780"
     },
     "user_tz": 0
    },
    "id": "LycARrR26QZe",
    "outputId": "ae0d7ac6-4798-416a-f2d3-d42117371c56",
    "scrolled": false
   },
   "outputs": [
    {
     "name": "stdout",
     "output_type": "stream",
     "text": [
      "Number of Null Values After Removal:\n",
      "color                      0\n",
      "director_name              0\n",
      "critic_Reviews             0\n",
      "duration                   0\n",
      "director_facebook_likes    0\n",
      "actor_3_facebook_likes     0\n",
      "actor_2_name               0\n",
      "actor_1_facebook_likes     0\n",
      "gross                      0\n",
      "genres                     0\n",
      "actor_1_name               0\n",
      "movie_title                0\n",
      "num_voted_users            0\n",
      "total_FB_Likes             0\n",
      "actor_3_name               0\n",
      "facenumber_in_poster       0\n",
      "plot_keywords              0\n",
      "movie_imdb_link            0\n",
      "num_user_for_reviews       0\n",
      "language                   0\n",
      "country                    0\n",
      "content_rating             0\n",
      "budget                     0\n",
      "title_year                 0\n",
      "actor_2_facebook_likes     0\n",
      "imdb_score                 0\n",
      "aspect_ratio               0\n",
      "movie_facebook_likes       0\n",
      "dtype: int64\n"
     ]
    },
    {
     "data": {
      "image/png": "[encoded data removed]",
      "text/plain": [
       "<Figure size 640x480 with 2 Axes>"
      ]
     },
     "metadata": {},
     "output_type": "display_data"
    }
   ],
   "source": [
    "movie_dataset.dropna(inplace= True) #This line of code will drop all the Null values.\n",
    "# Display the number of null values in each column after removal\n",
    "null_values_after_removal = movie_dataset.isnull().sum()\n",
    "print(\"Number of Null Values After Removal:\")\n",
    "print(null_values_after_removal)\n",
    "\n",
    "sns.heatmap(movie_dataset.isnull()) #To ensure the null values are dropped and is shown in the below heatmap.\n",
    "plt.show()"
   ]
  },
  {
   "cell_type": "code",
   "execution_count": 11,
   "metadata": {
    "colab": {
     "base_uri": "https://localhost:8080/"
    },
    "executionInfo": {
     "elapsed": 5,
     "status": "ok",
     "timestamp": 1700750400676,
     "user": {
      "displayName": "Aravindhan S",
      "userId": "11350369439612807780"
     },
     "user_tz": 0
    },
    "id": "fWOI_QQ56QZe",
    "outputId": "42dcd8bb-c6a1-4089-f997-161cc0cea577",
    "scrolled": false
   },
   "outputs": [
    {
     "data": {
      "text/plain": [
       "0"
      ]
     },
     "execution_count": 11,
     "metadata": {},
     "output_type": "execute_result"
    }
   ],
   "source": [
    "movie_dataset.drop_duplicates(subset=None, inplace= True) #This line will remove/drop the duplicates from the dataset\n",
    "movie_dataset.duplicated().sum() #Checking for the duplicate value counts once again which should be 0."
   ]
  },
  {
   "cell_type": "markdown",
   "metadata": {
    "id": "wLA05bDdvPQ-"
   },
   "source": [
    "## **Exploratory Data Analysis**"
   ]
  },
  {
   "cell_type": "code",
   "execution_count": 12,
   "metadata": {
    "executionInfo": {
     "elapsed": 4,
     "status": "ok",
     "timestamp": 1700750400676,
     "user": {
      "displayName": "Aravindhan S",
      "userId": "11350369439612807780"
     },
     "user_tz": 0
    },
    "id": "YV3cOYi36QZe"
   },
   "outputs": [],
   "source": [
    "columns =['budget', 'country', 'director_name', 'genres', 'gross', 'language', 'imdb_score', 'movie_title']\n",
    "#I only need to extract the above mentioned column datas for my further analysis to check whether which movie genre can be recommended\n",
    "CFmovie_dataset = movie_dataset[columns] #This is a new data frame name for the file with customized columns"
   ]
  },
  {
   "cell_type": "code",
   "execution_count": 13,
   "metadata": {
    "colab": {
     "base_uri": "https://localhost:8080/",
     "height": 605
    },
    "executionInfo": {
     "elapsed": 837,
     "status": "ok",
     "timestamp": 1700750401510,
     "user": {
      "displayName": "Aravindhan S",
      "userId": "11350369439612807780"
     },
     "user_tz": 0
    },
    "id": "die1t0Q36QZe",
    "outputId": "58ace714-b856-45bc-c363-986bf7b55b22"
   },
   "outputs": [
    {
     "data": {
      "image/png": "[encoded data removed]",
      "text/plain": [
       "<Figure size 1000x600 with 1 Axes>"
      ]
     },
     "metadata": {},
     "output_type": "display_data"
    }
   ],
   "source": [
    "#I'm now gonna plot a histogram in order to display the unique movie titles released in Top 5 countries\n",
    "df_country = CFmovie_dataset.groupby(['country']).agg({\"movie_title\": \"nunique\"}).reset_index().sort_values(by=['movie_title'], ascending=False)[:5]\n",
    "#Creating a histogram\n",
    "plt.figure(figsize=(10, 6))\n",
    "plt.bar(df_country['country'], df_country['movie_title'], color='orange')\n",
    "plt.xlabel('Country')\n",
    "plt.ylabel('Number of Unique Movie Titles')\n",
    "plt.title('Distribution of Unique Movie Titles by Country (Top 5)')\n",
    "plt.xticks(rotation=45, ha='right')  #Rotate country labels for better readability\n",
    "plt.grid(axis='y')  #Adding a grid to enhance readability\n",
    "plt.show()"
   ]
  },
  {
   "cell_type": "markdown",
   "metadata": {
    "id": "3FEP4J5u6QZe"
   },
   "source": [
    "I have analysed each country's movie production, as seen in the histogram. In this, I plotted the top countries again and found that the US market has the most movies. To target a certain market and get a high ROI, I will refine my analysis, targeting for the US market."
   ]
  },
  {
   "cell_type": "markdown",
   "metadata": {
    "id": "QVaqytE1kfU4"
   },
   "source": [
    "Now I will be appending data quality parameters to the file after deciding which particular columns to include. These factors include the following parameters: 1) Eliminating the zeros from the budget and gross columns since they provide inaccurate insights. 2) Limiting the budget value to 1.5M (Budget≤1,500,000) because we only have a 1.5M budget. 3) I've selected the US as my target market to increase ROI."
   ]
  },
  {
   "cell_type": "markdown",
   "metadata": {
    "id": "6pqcdoAwkepa"
   },
   "source": [
    "In addition to the existing paramaters where budget, gross and imdb_score are metrics (Facts) and genres, director_name, country and language are dimensions. With these paramaters i'll be adding 2 more calculated metrics called Return on Investment %(ROI%) and Profit(based on budget and gross)."
   ]
  },
  {
   "cell_type": "code",
   "execution_count": 14,
   "metadata": {
    "executionInfo": {
     "elapsed": 5,
     "status": "ok",
     "timestamp": 1700750401510,
     "user": {
      "displayName": "Aravindhan S",
      "userId": "11350369439612807780"
     },
     "user_tz": 0
    },
    "id": "pVOBuTs06QZe",
    "scrolled": true
   },
   "outputs": [],
   "source": [
    "CFmovie_dataset = CFmovie_dataset[CFmovie_dataset['budget']<=1500000] #This is to restrict the budget value\n",
    "CFmovie_dataset = CFmovie_dataset[CFmovie_dataset['budget']!=0]\n",
    "CFmovie_dataset = CFmovie_dataset[CFmovie_dataset['gross']!=0] #dropping the 0 values from the gross\n",
    "CFmovie_dataset = CFmovie_dataset[CFmovie_dataset['country']=='USA'] #Keeping the target country market as USA\n",
    "CFmovie_dataset.dropna(subset=['budget', 'gross', 'country'], inplace=True) #removing/dropping the Null values from the rows"
   ]
  },
  {
   "cell_type": "code",
   "execution_count": 15,
   "metadata": {
    "executionInfo": {
     "elapsed": 4,
     "status": "ok",
     "timestamp": 1700750401510,
     "user": {
      "displayName": "Aravindhan S",
      "userId": "11350369439612807780"
     },
     "user_tz": 0
    },
    "id": "eCCcTxpA6QZe"
   },
   "outputs": [],
   "source": [
    "#now calculating and adding the new metric fields to dataframe\n",
    "CFmovie_dataset[\"%ReturnOnInvestment\"]= ((CFmovie_dataset[\"gross\"]-CFmovie_dataset[\"budget\"])/ CFmovie_dataset[\"budget\"])\n",
    "CFmovie_dataset[\"Profit\"]= (CFmovie_dataset[\"gross\"]-CFmovie_dataset[\"budget\"])"
   ]
  },
  {
   "cell_type": "code",
   "execution_count": 16,
   "metadata": {
    "colab": {
     "base_uri": "https://localhost:8080/"
    },
    "executionInfo": {
     "elapsed": 16575,
     "status": "ok",
     "timestamp": 1700750419664,
     "user": {
      "displayName": "Aravindhan S",
      "userId": "11350369439612807780"
     },
     "user_tz": 0
    },
    "id": "8fehJQyQFw1q",
    "outputId": "81225cd8-1989-4953-b998-2de3cffe8dca"
   },
   "outputs": [
    {
     "name": "stdout",
     "output_type": "stream",
     "text": [
      "Requirement already satisfied: tabulate in /Users/aravindh/anaconda3/lib/python3.11/site-packages (0.8.10)\n",
      "Note: you may need to restart the kernel to use updated packages.\n"
     ]
    }
   ],
   "source": [
    "pip install tabulate"
   ]
  },
  {
   "cell_type": "code",
   "execution_count": 17,
   "metadata": {
    "colab": {
     "base_uri": "https://localhost:8080/"
    },
    "executionInfo": {
     "elapsed": 12,
     "status": "ok",
     "timestamp": 1700750419665,
     "user": {
      "displayName": "Aravindhan S",
      "userId": "11350369439612807780"
     },
     "user_tz": 0
    },
    "id": "0G4Bf0DCSd_C",
    "outputId": "50ec28c9-ce15-4d60-fe9b-cfcb15972dcf"
   },
   "outputs": [
    {
     "name": "stdout",
     "output_type": "stream",
     "text": [
      "Top Genres based on Return on Investment:\n",
      "+-------------------------------------------+--------------------+--------------+\n",
      "|                  genres                   |        %ROI        | total_movies |\n",
      "+-------------------------------------------+--------------------+--------------+\n",
      "|                  Horror                   | 7193.4855333333335 |      6       |\n",
      "|           Biography|Documentary           | 2714.6605504587155 |      1       |\n",
      "|           Comedy|Drama|Romance            |      408.864       |      13      |\n",
      "|              Horror|Thriller              | 368.4272853517215  |      5       |\n",
      "|    Action|Crime|Drama|Romance|Thriller    |       290.56       |      1       |\n",
      "|         Comedy|Documentary|Drama          | 176.3748923076923  |      1       |\n",
      "|            Comedy|Drama|Music             | 147.00514800514802 |      2       |\n",
      "|                Drama|Sport                | 121.12004895833333 |      5       |\n",
      "|                  Comedy                   |     110.35239      |      8       |\n",
      "|         Adventure|Family|Romance          |      78.1052       |      1       |\n",
      "|                Documentary                | 76.47454545454545  |      6       |\n",
      "|               Drama|Romance               |     65.902958      |      3       |\n",
      "| Adventure|Biography|Drama|Horror|Thriller |     60.001764      |      1       |\n",
      "|           Drama|Sci-Fi|Thriller           |       59.68        |      1       |\n",
      "|          Drama|Mystery|Thriller           | 52.616166666666665 |      2       |\n",
      "+-------------------------------------------+--------------------+--------------+\n"
     ]
    }
   ],
   "source": [
    "from tabulate import tabulate\n",
    "\n",
    "dataset_genre = CFmovie_dataset.groupby(['genres', ]).agg({\"%ReturnOnInvestment\":\"max\",\"movie_title\":\"count\"}).reset_index().sort_values(by=['%ReturnOnInvestment'],ascending=False)[:15]\n",
    "#Displaying the top genres and their corresponding max ROI values also with their count of movies in each genre\n",
    "dataset_genre = dataset_genre.rename(columns={\"%ReturnOnInvestment\": \"%ROI\", \"movie_title\":\"total_movies\"}) #Renaming the columns to avoid conflicts\n",
    "top_genres = dataset_genre [['genres','%ROI','total_movies']]\n",
    "print(\"Top Genres based on Return on Investment:\")\n",
    "print(tabulate(top_genres, headers='keys', tablefmt='pretty', showindex=False))"
   ]
  },
  {
   "cell_type": "code",
   "execution_count": 18,
   "metadata": {
    "colab": {
     "base_uri": "https://localhost:8080/",
     "height": 582
    },
    "executionInfo": {
     "elapsed": 501,
     "status": "ok",
     "timestamp": 1700750420158,
     "user": {
      "displayName": "Aravindhan S",
      "userId": "11350369439612807780"
     },
     "user_tz": 0
    },
    "id": "7iddZ6DrkEKe",
    "outputId": "8e6dd355-753c-4972-ce2a-3bf7a6674cff"
   },
   "outputs": [
    {
     "data": {
      "image/png": "[encoded data removed]",
      "text/plain": [
       "<Figure size 800x600 with 1 Axes>"
      ]
     },
     "metadata": {},
     "output_type": "display_data"
    },
    {
     "data": {
      "text/plain": [
       "175"
      ]
     },
     "execution_count": 18,
     "metadata": {},
     "output_type": "execute_result"
    }
   ],
   "source": [
    "#Plotting return on investment based on the Genres\n",
    "plt.figure(figsize=(8,6))\n",
    "plt.barh(dataset_genre[::-1]['genres'], dataset_genre[::-1]['%ROI'],color=['blue'])\n",
    "plt.xlabel('Return on Investment (%)')\n",
    "plt.ylabel('Genres')\n",
    "plt.title('ROI based on Genres')\n",
    "plt.show()\n",
    "CFmovie_dataset.shape[0] #checking the number of samples/records in the dataframe\n"
   ]
  },
  {
   "cell_type": "markdown",
   "metadata": {
    "id": "vcdp9lRXBFB9"
   },
   "source": [
    "The above plot above shows genre-specific maximum ROI and also helps us identify the genres for data analysis using maximum ROI %. Due to the small sample numbers for the top two genres (6 and 1), I have considered to go with the Comedy|Drama|Romance (13) for my further analysis."
   ]
  },
  {
   "cell_type": "code",
   "execution_count": 19,
   "metadata": {
    "colab": {
     "base_uri": "https://localhost:8080/"
    },
    "executionInfo": {
     "elapsed": 7,
     "status": "ok",
     "timestamp": 1700750420158,
     "user": {
      "displayName": "Aravindhan S",
      "userId": "11350369439612807780"
     },
     "user_tz": 0
    },
    "id": "fiODYzc4HqNk",
    "outputId": "d8bc5221-e99d-4242-ed36-00e2677be05d"
   },
   "outputs": [
    {
     "data": {
      "text/plain": [
       "13"
      ]
     },
     "execution_count": 19,
     "metadata": {},
     "output_type": "execute_result"
    }
   ],
   "source": [
    "CFmovie_dataset = CFmovie_dataset[CFmovie_dataset['genres']=='Comedy|Drama|Romance'] #filtering the genre and keeping only Comedy|Drama|Romance genre by above analysis\n",
    "CFmovie_dataset.shape[0] #checking the number of samples/records in the dataframe"
   ]
  },
  {
   "cell_type": "code",
   "execution_count": 20,
   "metadata": {
    "colab": {
     "base_uri": "https://localhost:8080/",
     "height": 300
    },
    "executionInfo": {
     "elapsed": 412,
     "status": "ok",
     "timestamp": 1700750420565,
     "user": {
      "displayName": "Aravindhan S",
      "userId": "11350369439612807780"
     },
     "user_tz": 0
    },
    "id": "jnbgKKl1H0i6",
    "outputId": "68d5ed12-e1c9-4ec6-e3d1-88f0406a6a3c"
   },
   "outputs": [
    {
     "data": {
      "text/html": [
       "<div>\n",
       "<style scoped>\n",
       "    .dataframe tbody tr th:only-of-type {\n",
       "        vertical-align: middle;\n",
       "    }\n",
       "\n",
       "    .dataframe tbody tr th {\n",
       "        vertical-align: top;\n",
       "    }\n",
       "\n",
       "    .dataframe thead th {\n",
       "        text-align: right;\n",
       "    }\n",
       "</style>\n",
       "<table border=\"1\" class=\"dataframe\">\n",
       "  <thead>\n",
       "    <tr style=\"text-align: right;\">\n",
       "      <th></th>\n",
       "      <th>budget</th>\n",
       "      <th>gross</th>\n",
       "      <th>imdb_score</th>\n",
       "      <th>%ReturnOnInvestment</th>\n",
       "      <th>Profit</th>\n",
       "    </tr>\n",
       "  </thead>\n",
       "  <tbody>\n",
       "    <tr>\n",
       "      <th>count</th>\n",
       "      <td>13.000000</td>\n",
       "      <td>1.300000e+01</td>\n",
       "      <td>13.000000</td>\n",
       "      <td>13.000000</td>\n",
       "      <td>1.300000e+01</td>\n",
       "    </tr>\n",
       "    <tr>\n",
       "      <th>mean</th>\n",
       "      <td>466538.461538</td>\n",
       "      <td>3.926704e+06</td>\n",
       "      <td>6.753846</td>\n",
       "      <td>40.648154</td>\n",
       "      <td>3.460165e+06</td>\n",
       "    </tr>\n",
       "    <tr>\n",
       "      <th>std</th>\n",
       "      <td>385510.400937</td>\n",
       "      <td>3.715438e+06</td>\n",
       "      <td>0.415563</td>\n",
       "      <td>111.343209</td>\n",
       "      <td>3.807864e+06</td>\n",
       "    </tr>\n",
       "    <tr>\n",
       "      <th>min</th>\n",
       "      <td>25000.000000</td>\n",
       "      <td>2.792820e+05</td>\n",
       "      <td>6.100000</td>\n",
       "      <td>-0.720718</td>\n",
       "      <td>-7.207180e+05</td>\n",
       "    </tr>\n",
       "    <tr>\n",
       "      <th>25%</th>\n",
       "      <td>225000.000000</td>\n",
       "      <td>9.028350e+05</td>\n",
       "      <td>6.500000</td>\n",
       "      <td>2.611340</td>\n",
       "      <td>6.528350e+05</td>\n",
       "    </tr>\n",
       "    <tr>\n",
       "      <th>50%</th>\n",
       "      <td>250000.000000</td>\n",
       "      <td>2.938208e+06</td>\n",
       "      <td>6.700000</td>\n",
       "      <td>6.022940</td>\n",
       "      <td>2.713208e+06</td>\n",
       "    </tr>\n",
       "    <tr>\n",
       "      <th>75%</th>\n",
       "      <td>850000.000000</td>\n",
       "      <td>4.186931e+06</td>\n",
       "      <td>7.000000</td>\n",
       "      <td>15.747724</td>\n",
       "      <td>3.936931e+06</td>\n",
       "    </tr>\n",
       "    <tr>\n",
       "      <th>max</th>\n",
       "      <td>1000000.000000</td>\n",
       "      <td>1.200651e+07</td>\n",
       "      <td>7.500000</td>\n",
       "      <td>408.864000</td>\n",
       "      <td>1.175651e+07</td>\n",
       "    </tr>\n",
       "  </tbody>\n",
       "</table>\n",
       "</div>"
      ],
      "text/plain": [
       "               budget         gross  imdb_score  %ReturnOnInvestment  \\\n",
       "count       13.000000  1.300000e+01   13.000000            13.000000   \n",
       "mean    466538.461538  3.926704e+06    6.753846            40.648154   \n",
       "std     385510.400937  3.715438e+06    0.415563           111.343209   \n",
       "min      25000.000000  2.792820e+05    6.100000            -0.720718   \n",
       "25%     225000.000000  9.028350e+05    6.500000             2.611340   \n",
       "50%     250000.000000  2.938208e+06    6.700000             6.022940   \n",
       "75%     850000.000000  4.186931e+06    7.000000            15.747724   \n",
       "max    1000000.000000  1.200651e+07    7.500000           408.864000   \n",
       "\n",
       "             Profit  \n",
       "count  1.300000e+01  \n",
       "mean   3.460165e+06  \n",
       "std    3.807864e+06  \n",
       "min   -7.207180e+05  \n",
       "25%    6.528350e+05  \n",
       "50%    2.713208e+06  \n",
       "75%    3.936931e+06  \n",
       "max    1.175651e+07  "
      ]
     },
     "execution_count": 20,
     "metadata": {},
     "output_type": "execute_result"
    }
   ],
   "source": [
    "CFmovie_dataset.describe() #showing descriptive statistics"
   ]
  },
  {
   "cell_type": "markdown",
   "metadata": {
    "id": "76mk04m1UHZX"
   },
   "source": [
    "## **Hypothesis Testing**:"
   ]
  },
  {
   "cell_type": "markdown",
   "metadata": {
    "id": "hgBzrq9dNBZA"
   },
   "source": [
    "The describe() function will return all calculated values with respect to statistics and this will enable us to conduct hypothesis analysis."
   ]
  },
  {
   "cell_type": "markdown",
   "metadata": {
    "id": "znYn_7kdTyBn"
   },
   "source": [
    "\"A high imdb_score will result in a higher Return on Investment (ROI) for Comedy, Drama, and Romance if imdb_score has an impact on this measure.\"\n",
    "\n",
    "On this natural hypothesis, we have two variables: imdb_score (independent variable) and return on investment.\n",
    "\n",
    "H0, Null Hypothesis: imdb_score has no influence on the Return on Investment for Comedy|Drama|Romance. H0: Assumed mean μ=6.5\n",
    "\n",
    "H1 Alternative Hypothesis: imdb_score has an effect on Comedy|Drama|Romance Return on Investment. Assumed mean μ≥6.5\n",
    "\n",
    "N=13 X(sample mean)=6.75 standard deviation=0.41"
   ]
  },
  {
   "cell_type": "code",
   "execution_count": 21,
   "metadata": {
    "colab": {
     "base_uri": "https://localhost:8080/"
    },
    "executionInfo": {
     "elapsed": 6,
     "status": "ok",
     "timestamp": 1700750420566,
     "user": {
      "displayName": "Aravindhan S",
      "userId": "11350369439612807780"
     },
     "user_tz": 0
    },
    "id": "6dXHLQ4oz-Iu",
    "outputId": "6e675eec-fa70-4a0b-96e7-7a2528bab21e"
   },
   "outputs": [
    {
     "name": "stdout",
     "output_type": "stream",
     "text": [
      "t-value: 2.1985068752829204\n"
     ]
    }
   ],
   "source": [
    "#Calculating the t-value or t-score using the above values since the sample size is < 30\n",
    "import math\n",
    "\n",
    "sample_mean = 6.75\n",
    "population_mean_null_hypothesis = 6.5\n",
    "standard_deviation = 0.41\n",
    "sample_size = 13\n",
    "\n",
    "# Calculate t-value\n",
    "t_value = (sample_mean - population_mean_null_hypothesis) / (standard_deviation / math.sqrt(sample_size))\n",
    "\n",
    "print(\"t-value:\", t_value)"
   ]
  },
  {
   "cell_type": "markdown",
   "metadata": {
    "id": "i5C2XY8uu7MA"
   },
   "source": [
    "Using the T value above i.e T ≥ 2.198 we can calculate the p-value based on the T value"
   ]
  },
  {
   "cell_type": "code",
   "execution_count": 22,
   "metadata": {
    "colab": {
     "base_uri": "https://localhost:8080/"
    },
    "executionInfo": {
     "elapsed": 4,
     "status": "ok",
     "timestamp": 1700750420566,
     "user": {
      "displayName": "Aravindhan S",
      "userId": "11350369439612807780"
     },
     "user_tz": 0
    },
    "id": "SB8cefpHVAPD",
    "outputId": "8a5753e0-486f-42a5-e663-aa1c0eae1a44"
   },
   "outputs": [
    {
     "name": "stdout",
     "output_type": "stream",
     "text": [
      "The p value for t higher than or equal to 2.198 is 0.013974552969125198\n"
     ]
    }
   ],
   "source": [
    "#Hypothesis testing for finding the p value\n",
    "from scipy import stats\n",
    "p_value = 1-stats.norm.cdf(2.198)\n",
    "print(\"The p value for t higher than or equal to 2.198 is\", p_value)"
   ]
  },
  {
   "cell_type": "markdown",
   "metadata": {
    "id": "jBq7ojjeVdFQ"
   },
   "source": [
    "The p-value is 0.013, which is actually P ≤ 0.05, therefore I am rejecting the null hypothesis and adopting the alternative hypothesis, which suggests that making a Comedy|Drama|Romance film with high IMDB ratings will have an effect on Return on investment."
   ]
  },
  {
   "cell_type": "markdown",
   "metadata": {
    "id": "zBLQT6V96QZf"
   },
   "source": [
    "## **Summary**"
   ]
  },
  {
   "cell_type": "markdown",
   "metadata": {
    "id": "4MjawYRCWY8B"
   },
   "source": [
    "Sussex Budget Productions is searching for a good return on investment (ROI) for the film they are creating because their previous film did not go well.\n",
    "\n",
    "So, in order to provide the best action item for the organization to choose the next movie and recover the loss and money, I dug deep into IMDB data and conducted exploratory data analysis (EDA), which included data wrangling and data cleansing. I used EDA to examine genres, movie counts, earnings, ROI, IMDB score, and gross. These findings aid in the identification of patterns between genres and ROI based on the number of films.\n",
    "\n",
    "According to the findings of the analysis, the 'Comedy|Drama|Romance' genre fits the criteria for a good return on investment for the next film. The hypothesis test on the specific genre was done based on IMDB ratings and ROI; thus, good IMDB ratings for the genre 'Comedy|Drama|Romance' will have a strong ROI within a budget restriction of 1.5 million.\n",
    "\n",
    "According to the data analysis, I recommend that the film be made in English with the 'Comedy|Drama|Romance' genre, and that it be released in the USA market rather than other countries for a greater ROI."
   ]
  },
  {
   "cell_type": "code",
   "execution_count": 23,
   "metadata": {
    "colab": {
     "base_uri": "https://localhost:8080/"
    },
    "executionInfo": {
     "elapsed": 559,
     "status": "ok",
     "timestamp": 1700750421121,
     "user": {
      "displayName": "Aravindhan S",
      "userId": "11350369439612807780"
     },
     "user_tz": 0
    },
    "id": "QqrySSO2yRUs",
    "outputId": "bcf79508-6f9c-4182-fc9c-35e5bb387037"
   },
   "outputs": [
    {
     "name": "stdout",
     "output_type": "stream",
     "text": [
      "Submission length is 958\n"
     ]
    }
   ],
   "source": [
    "# write the notebook filepath here\n",
    "# make sure that the notebook is also in the same directory as this code\n",
    "filepath=\"DSRM report_277570.ipynb\"\n",
    "\n",
    "import io\n",
    "from nbformat import read\n",
    "with io.open(filepath, \"r\", encoding=\"utf-8\") as f:\n",
    "    nb=read(f, 4)\n",
    "word_count = 0\n",
    "for cell in nb[\"cells\"]:\n",
    "    if cell.cell_type == \"markdown\":\n",
    "        word_count += len(cell[\"source\"].replace(\"#\", \"\").lstrip().split(\" \"))\n",
    "print(f\"Submission length is {word_count}\")"
   ]
  }
 ],
 "metadata": {
  "colab": {
   "provenance": []
  },
  "kernelspec": {
   "display_name": "Python 3 (ipykernel)",
   "language": "python",
   "name": "python3"
  },
  "language_info": {
   "codemirror_mode": {
    "name": "ipython",
    "version": 3
   },
   "file_extension": ".py",
   "mimetype": "text/x-python",
   "name": "python",
   "nbconvert_exporter": "python",
   "pygments_lexer": "ipython3",
   "version": "3.11.5"
  }
 },
 "nbformat": 4,
 "nbformat_minor": 1
}
